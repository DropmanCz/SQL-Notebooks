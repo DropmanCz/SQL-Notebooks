{
    "metadata": {
        "kernelspec": {
            "name": "SQL",
            "display_name": "SQL",
            "language": "sql"
        },
        "language_info": {
            "name": "sql",
            "version": ""
        }
    },
    "nbformat_minor": 2,
    "nbformat": 4,
    "cells": [
        {
            "cell_type": "markdown",
            "source": [
                "# Row level security\n",
                "\n",
                "In this demo we will use three users\n",
                "\n",
                "- David and George: just business users with limited access to a table\n",
                "- Dev: some kind of \"superuser\" who should see all data in the same table\n",
                "\n",
                "First step is a preparation of users."
            ],
            "metadata": {
                "azdata_cell_guid": "46ddaf93-1f68-4fbe-af3a-b86f3464996e"
            }
        },
        {
            "cell_type": "code",
            "source": [
                "use Demo\r\n",
                "GO\r\n",
                "\r\n",
                "if exists(select * from sys.server_principals where name = 'George')\r\n",
                "    drop login George\r\n",
                "\r\n",
                "create login George with password = 'Pa$$w0rd', check_policy = off, default_database = master, default_language = English\r\n",
                "go\r\n",
                "\r\n",
                "if exists(select * from sys.database_principals where name = 'George')\r\n",
                "    drop user George;\r\n",
                "go\r\n",
                "\r\n",
                "create user George for login George with default_schema = dbo\r\n",
                "go\r\n",
                "\r\n",
                "select name, principal_id from sys.database_principals\r\n",
                "\r\n",
                "grant select on schema::Sales to George\r\n",
                "GO\r\n",
                "\r\n",
                "-- Dev user already has all permissions needed because he is a member of the db_owner role"
            ],
            "metadata": {
                "azdata_cell_guid": "7a3877dd-8b3b-4ced-b84a-33b78078bc60"
            },
            "outputs": [],
            "execution_count": null
        },
        {
            "cell_type": "markdown",
            "source": [
                "Let's adjust the Sales.SalesCases table. Then we will add a couple of records."
            ],
            "metadata": {
                "azdata_cell_guid": "9e8e312c-c8fe-425d-965c-e92da706f781"
            }
        },
        {
            "cell_type": "code",
            "source": [
                "use Demo\r\n",
                "GO\r\n",
                "alter table Sales.SalesCases add created_by nvarchar(20) not NULL\r\n",
                "go\r\n",
                "\r\n",
                "insert Sales.SalesCases (SomeValue, created_by) values (4, 'David')\r\n",
                "insert Sales.SalesCases (SomeValue, created_by) values (6, 'George')\r\n",
                "go 5\r\n",
                "\r\n",
                "select * from Sales.SalesCases"
            ],
            "metadata": {
                "azdata_cell_guid": "939178c9-cbf8-4f7a-a7b8-3eec93a224e1"
            },
            "outputs": [],
            "execution_count": null
        },
        {
            "cell_type": "markdown",
            "source": [
                "## Creating security objects\n",
                "\n",
                "### Security predicate\n",
                "A in-line table-valued function with one (and strictly one) parameter. The parameter serves as a binding value for filtering data from table."
            ],
            "metadata": {
                "azdata_cell_guid": "4619e779-42fc-4b97-9baa-f95d560272f1"
            }
        },
        {
            "cell_type": "code",
            "source": [
                "use Demo\r\n",
                "GO\r\n",
                "\r\n",
                "create or alter function Sales.fnSecurityPredicate(@user nvarchar(20))\r\n",
                "returns table\r\n",
                "with SCHEMABINDING\r\n",
                "as\r\n",
                "return select 1 as true_result where USER_NAME() = @user\r\n",
                "go"
            ],
            "metadata": {
                "azdata_cell_guid": "852aa7b2-99c7-41d2-96a3-a5ccfa67300c"
            },
            "outputs": [],
            "execution_count": null
        },
        {
            "cell_type": "markdown",
            "source": [
                "### Security policy\r\n",
                "An object which binds the security predicate with filtered table. The security policy could be enabled or disabled."
            ],
            "metadata": {
                "azdata_cell_guid": "4765e129-e05e-43a3-a14b-5701a0a155ff"
            }
        },
        {
            "cell_type": "code",
            "source": [
                "use Demo\r\n",
                "go\r\n",
                "\r\n",
                "create security policy Sales.SalesCasesPolicy\r\n",
                "add filter predicate Sales.fnSecurityPredicate(created_by)\r\n",
                "on Sales.SalesCases\r\n",
                "with (state = on)\r\n",
                "go\r\n",
                ""
            ],
            "metadata": {
                "azdata_cell_guid": "d463406b-9479-46a6-9f0e-75eb0b447802"
            },
            "outputs": [],
            "execution_count": null
        },
        {
            "cell_type": "markdown",
            "source": [
                "### Testing the policy\r\n",
                "We'll execute the same query for all three users - David, George and Dev"
            ],
            "metadata": {
                "azdata_cell_guid": "94163eea-b072-4310-a09f-2c280887d2b2"
            }
        },
        {
            "cell_type": "code",
            "source": [
                "use Demo\r\n",
                "go\r\n",
                "\r\n",
                "execute as user = 'David'\r\n",
                "select * from Sales.SalesCases\r\n",
                "revert\r\n",
                "\r\n",
                "execute as user = 'George'\r\n",
                "select * from Sales.SalesCases\r\n",
                "revert\r\n",
                "\r\n",
                "execute as user = 'Dev'\r\n",
                "select * from Sales.SalesCases\r\n",
                "revert"
            ],
            "metadata": {
                "azdata_cell_guid": "80cb66d0-aa18-49b8-8232-924d0919e27c",
                "tags": []
            },
            "outputs": [],
            "execution_count": null
        },
        {
            "cell_type": "markdown",
            "source": [
                "**Oh! Wait! Dev user is a \"superuser\", isn't it?**\n",
                "\n",
                "Let's adjust the security predicate for him. Only way is to add an exceptional predicate to the WHERE clause of the function."
            ],
            "metadata": {
                "azdata_cell_guid": "cab79215-0dd9-4a93-9a34-90438a42b1fa"
            }
        },
        {
            "cell_type": "code",
            "source": [
                "use Demo\r\n",
                "GO\r\n",
                "\r\n",
                "drop security policy Sales.SalesCasesPolicy\r\n",
                "go\r\n",
                "\r\n",
                "create or alter function Sales.fnSecurityPredicate(@user nvarchar(20))\r\n",
                "returns table\r\n",
                "with SCHEMABINDING\r\n",
                "as\r\n",
                "return select 1 as true_result where USER_NAME() = @user or USER_NAME() = 'Dev'\r\n",
                "go\r\n",
                "\r\n",
                "create security policy Sales.SalesCasesPolicy\r\n",
                "add filter predicate Sales.fnSecurityPredicate(created_by)\r\n",
                "on Sales.SalesCases\r\n",
                "with (state = on)\r\n",
                "go"
            ],
            "metadata": {
                "azdata_cell_guid": "c1209829-6b61-4802-a5d2-25bcb199cba8"
            },
            "outputs": [],
            "execution_count": null
        }
    ]
}