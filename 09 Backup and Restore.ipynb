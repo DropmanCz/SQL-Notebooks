{
    "metadata": {
        "kernelspec": {
            "name": "SQL",
            "display_name": "SQL",
            "language": "sql"
        },
        "language_info": {
            "name": "sql",
            "version": ""
        }
    },
    "nbformat_minor": 2,
    "nbformat": 4,
    "cells": [
        {
            "cell_type": "markdown",
            "source": [
                "# Backup and restore\r\n",
                "This demo consists basically of three parts.\r\n",
                "1. Recovery model configuration\r\n",
                "2. Regular backup using full and transaction log backups\r\n",
                "3. Restoring database completely\r\n",
                "4. Restoring database to certain point in time\r\n",
                "\r\n",
                "First moment when we should configure recovery model is immediately after the database creation. When we begin to establish backup strategy, it's not that bad to check the recovery model once again.\r\n",
                "\r\n",
                "## Checking and setting the recovery model"
            ],
            "metadata": {
                "azdata_cell_guid": "dcd2135f-0400-4de6-875f-51f59409ca83"
            }
        },
        {
            "cell_type": "code",
            "source": [
                "use master\r\n",
                "go\r\n",
                "\r\n",
                "select recovery_model_desc from sys.databases where name = 'Demo'\r\n",
                "go\r\n",
                "\r\n",
                "alter database Demo set recovery FULL\r\n",
                "go"
            ],
            "metadata": {
                "azdata_cell_guid": "6f4ed432-36ac-4bd2-8362-f6a318875e1b"
            },
            "outputs": [],
            "execution_count": null
        },
        {
            "cell_type": "markdown",
            "source": [
                "## Full backup\r\n",
                "Full backup is always first backup in the line of consequencing backups. The full backup backs up allocated part of database files and active portion of transaction log. Full backup also resets differential map of the database."
            ],
            "metadata": {
                "azdata_cell_guid": "e1745d4a-92c4-4809-b411-5e7054bef202"
            }
        },
        {
            "cell_type": "code",
            "source": [
                "backup database Demo to disk = 'f:\\backup\\Demo.bak'\r\n",
                "with\r\n",
                "init\r\n",
                ", compression\r\n",
                ", checksum"
            ],
            "metadata": {
                "azdata_cell_guid": "8baf96af-3146-4a7d-aeea-51479678ebdf"
            },
            "outputs": [],
            "execution_count": null
        },
        {
            "cell_type": "markdown",
            "source": [
                "## Log backup\n",
                "\n",
                "Log backup follows preceding backup executed. It backs up all transaction log records (including active part of transaction log) from last previously backed up LSN. Following _BACKUP LOG_ statement should be executed on regular basis (say, once in a hour). Let's execute following statement several times"
            ],
            "metadata": {
                "azdata_cell_guid": "442a1628-e828-4406-a5a6-449f683eea8a"
            }
        },
        {
            "cell_type": "code",
            "source": [
                "backup log Demo to disk = 'f:\\backup\\Demo.bak'\r\n",
                "with\r\n",
                "noinit\r\n",
                ", compression\r\n",
                ", checksum"
            ],
            "metadata": {
                "azdata_cell_guid": "e8257b33-9ef6-4d46-a759-e5fa43bf287e"
            },
            "outputs": [],
            "execution_count": null
        },
        {
            "cell_type": "markdown",
            "source": [
                "## Inspecting a content of backup file\r\n",
                "For inspection purposes *RESTORE* statement is used.\r\n",
                "- RESTORE VERIFYONLY: Test for backup file readibility\r\n",
                "- RESTORE HEADERONLY: A content of backup device\r\n",
                "- RESTORE FILELISTONLY: Where files were placed during backup"
            ],
            "metadata": {
                "azdata_cell_guid": "3f757578-fcae-4698-8134-60b9fe890a0a"
            }
        },
        {
            "cell_type": "code",
            "source": [
                "restore verifyonly from disk = 'f:\\backup\\Demo.bak' with checksum\r\n",
                "restore headeronly from disk = 'f:\\backup\\Demo.bak'\r\n",
                "restore filelistonly from disk = 'f:\\backup\\Demo.bak'"
            ],
            "metadata": {
                "azdata_cell_guid": "eeba309a-d38b-4f70-9caa-eb04bf33ea04"
            },
            "outputs": [],
            "execution_count": null
        },
        {
            "cell_type": "markdown",
            "source": [
                "# DISASTER OCCURED!\r\n",
                "First of all it is recommended to keep as much transactions as possible. It's technique called tail-log backup. Following statement shows it."
            ],
            "metadata": {
                "azdata_cell_guid": "a737f13b-5085-4afa-ae93-f74dabbeb5d1"
            }
        },
        {
            "cell_type": "code",
            "source": [
                "backup log Demo to disk = 'f:\\backup\\DemoTailLog.bak'\r\n",
                "with\r\n",
                "checksum, norecovery, continue_after_error"
            ],
            "metadata": {
                "azdata_cell_guid": "2ee5ee2e-38fd-419d-b9f6-dc89f8fb7c1e"
            },
            "outputs": [],
            "execution_count": null
        },
        {
            "cell_type": "markdown",
            "source": [
                "When preceding statement is executed, the database goes to RESTORING state. From now, the process of recovery can begin.\r\n",
                "\r\n",
                "When restoring database from more backups, we need to keep it in restoring state until all backups are restored.\r\n",
                "\r\n",
                "The restore process begins from full backup restore.\r\n",
                "\r\n",
                "Following statement shows whole restore of the database Demo."
            ],
            "metadata": {
                "azdata_cell_guid": "df0cbad7-c3a1-44d5-bd1f-ebb1cff596a5"
            }
        },
        {
            "cell_type": "code",
            "source": [
                "restore headeronly from disk = 'f:\\backup\\Demo.bak'\r\n",
                "restore headeronly from disk = 'f:\\backup\\DemoTailLog.bak'"
            ],
            "metadata": {
                "azdata_cell_guid": "42851720-8295-45a3-b31c-607ce3cc1a5b"
            },
            "outputs": [],
            "execution_count": null
        },
        {
            "cell_type": "code",
            "source": [
                "restore database Demo from disk = 'f:\\backup\\Demo.bak'\r\n",
                "with\r\n",
                "norecovery\r\n",
                ", replace\r\n",
                ", file = 1\r\n",
                "\r\n",
                "restore log Demo from disk = 'f:\\backup\\Demo.bak'\r\n",
                "with\r\n",
                "norecovery\r\n",
                ", file = 2\r\n",
                "\r\n",
                "restore log Demo from disk = 'f:\\backup\\Demo.bak'\r\n",
                "with\r\n",
                "norecovery\r\n",
                ", file = 3\r\n",
                "\r\n",
                "restore log Demo from disk = 'f:\\backup\\DemoTailLog.bak'\r\n",
                "with\r\n",
                "norecovery"
            ],
            "metadata": {
                "azdata_cell_guid": "c1efbd2f-1dfb-44a0-97c0-0e398236ff4e"
            },
            "outputs": [],
            "execution_count": null
        },
        {
            "cell_type": "markdown",
            "source": [
                "Here we go! The database is recovered and up to date. Or not? Let's take a look to a state of the database."
            ],
            "metadata": {
                "azdata_cell_guid": "557567fc-0b65-4848-8080-fc4954622493"
            }
        },
        {
            "cell_type": "code",
            "source": [
                "select state_desc from sys.databases where name = 'Demo'"
            ],
            "metadata": {
                "azdata_cell_guid": "1a857e91-0cfe-4bcf-8038-2ce9b1d66514"
            },
            "outputs": [],
            "execution_count": null
        },
        {
            "cell_type": "markdown",
            "source": [
                "It's very usual that when database is being restored, the DBA misses to change the _NORECOVERY_ option in last RESTORE statement to _RECOVERY_. The correction is very simple:"
            ],
            "metadata": {
                "azdata_cell_guid": "0f892458-fcdc-467d-ba61-a810556af26c"
            }
        },
        {
            "cell_type": "code",
            "source": [
                "restore log Demo from disk = 'f:\\backup\\DemoTailLog.bak'\r\n",
                "with\r\n",
                "recovery\r\n",
                "go\r\n",
                "\r\n",
                "select state_desc from sys.databases where name = 'Demo'"
            ],
            "metadata": {
                "azdata_cell_guid": "92bf87b8-da71-4446-98af-3f5f81e8d01a"
            },
            "outputs": [],
            "execution_count": null
        },
        {
            "cell_type": "markdown",
            "source": [
                "## Point-in-time recovery\r\n",
                "In many cases disaster is a result of accidental statement. When database is set to FULL recovery model, we can restore the database to a certail point in time, or to a certain marked point. Following example shows how to restore database up to accidental marked transaction. First step is to begin \"regular process\"."
            ],
            "metadata": {
                "azdata_cell_guid": "1b56608c-78af-410c-874d-67e8bcaeac1e"
            }
        },
        {
            "cell_type": "code",
            "source": [
                "backup database Demo to disk = 'f:\\backup\\Demo.bak'\r\n",
                "with\r\n",
                "init\r\n",
                ", compression\r\n",
                ", checksum"
            ],
            "metadata": {
                "azdata_cell_guid": "6e7d6ae0-33d4-483d-b4eb-1556f2350db1"
            },
            "outputs": [],
            "execution_count": null
        },
        {
            "cell_type": "code",
            "source": [
                "backup log Demo to disk = 'f:\\backup\\Demo.bak'\r\n",
                "with\r\n",
                "noinit\r\n",
                ", compression\r\n",
                ", checksum"
            ],
            "metadata": {
                "azdata_cell_guid": "c770b0da-6706-41bc-ab77-d2baef4b512e"
            },
            "outputs": [],
            "execution_count": null
        },
        {
            "cell_type": "markdown",
            "source": [
                "## Corrupted transaction"
            ],
            "metadata": {
                "azdata_cell_guid": "b241ad0a-a488-45f5-bed8-22b549e361e8"
            }
        },
        {
            "cell_type": "code",
            "source": [
                "use Demo\r\n",
                "go\r\n",
                "\r\n",
                "execute as user = 'Dev'\r\n",
                "select * from Sales.SalesCases\r\n",
                "\r\n",
                "begin tran A with mark\r\n",
                "delete Sales.SalesCases\r\n",
                "COMMIT\r\n",
                "\r\n",
                "select * from Sales.SalesCases\r\n",
                "revert\r\n",
                "\r\n",
                "checkpoint"
            ],
            "metadata": {
                "azdata_cell_guid": "c0056d05-3810-45b8-b0b3-8d906749cb2d"
            },
            "outputs": [],
            "execution_count": null
        },
        {
            "cell_type": "markdown",
            "source": [
                "We need to execute tail log backup as soon as possible"
            ],
            "metadata": {
                "azdata_cell_guid": "29ea8cdb-7fc1-4211-8a2a-5964fd4e07cc"
            }
        },
        {
            "cell_type": "code",
            "source": [
                "use master\r\n",
                "go\r\n",
                "backup log Demo to disk = 'f:\\backup\\DemoTailLog.bak'\r\n",
                "with\r\n",
                "checksum, norecovery, continue_after_error, init"
            ],
            "metadata": {
                "azdata_cell_guid": "cda8002b-e658-46bf-967e-c071a93f0b0d"
            },
            "outputs": [],
            "execution_count": null
        },
        {
            "cell_type": "markdown",
            "source": [
                "Now, the restore process follows:"
            ],
            "metadata": {
                "azdata_cell_guid": "446bb7e5-1687-4a3f-a1e9-199e731a481e"
            }
        },
        {
            "cell_type": "code",
            "source": [
                "restore headeronly from disk = 'f:\\backup\\Demo.bak'\r\n",
                "restore headeronly from disk = 'f:\\backup\\DemoTailLog.bak'"
            ],
            "metadata": {
                "azdata_cell_guid": "bc2da468-bb09-4f98-8c29-56ec218957a4"
            },
            "outputs": [],
            "execution_count": null
        },
        {
            "cell_type": "code",
            "source": [
                "use master\r\n",
                "go\r\n",
                "restore database Demo from disk = 'f:\\backup\\Demo.bak'\r\n",
                "with\r\n",
                "norecovery\r\n",
                ", replace\r\n",
                ", file = 1\r\n",
                "\r\n",
                "restore log Demo from disk = 'f:\\backup\\Demo.bak'\r\n",
                "with\r\n",
                "recovery\r\n",
                ", file = 2\r\n",
                ", stopbeforemark = 'A'\r\n",
                "\r\n",
                "restore log Demo from disk = 'f:\\backup\\DemoTailLog.bak'\r\n",
                "with\r\n",
                "recovery\r\n",
                ", stopbeforemark = 'A'"
            ],
            "metadata": {
                "azdata_cell_guid": "b39d6d35-ad66-4a69-8934-d8129e5fcaac"
            },
            "outputs": [],
            "execution_count": null
        },
        {
            "cell_type": "code",
            "source": [
                "select state_desc  from sys.databases where name = 'Demo'"
            ],
            "metadata": {
                "azdata_cell_guid": "76250ef7-455c-443f-9889-18f2fb265de1"
            },
            "outputs": [],
            "execution_count": null
        },
        {
            "cell_type": "markdown",
            "source": [
                "Now, let's try to see data back again..."
            ],
            "metadata": {
                "azdata_cell_guid": "bfeba97d-b265-41b2-b98f-483ef8545dd4"
            }
        },
        {
            "cell_type": "code",
            "source": [
                "use Demo\r\n",
                "go\r\n",
                "\r\n",
                "execute as user = 'Dev'\r\n",
                "select * from Sales.SalesCases\r\n",
                "revert"
            ],
            "metadata": {
                "azdata_cell_guid": "9b868c17-7188-4a23-999c-53103bedca86"
            },
            "outputs": [],
            "execution_count": null
        }
    ]
}