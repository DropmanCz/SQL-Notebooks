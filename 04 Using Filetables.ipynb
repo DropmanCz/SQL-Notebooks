{
    "metadata": {
        "kernelspec": {
            "name": "SQL",
            "display_name": "SQL",
            "language": "sql"
        },
        "language_info": {
            "name": "sql",
            "version": ""
        }
    },
    "nbformat_minor": 2,
    "nbformat": 4,
    "cells": [
        {
            "cell_type": "markdown",
            "source": [
                "# Working with filetables\r\n",
                "The filetable is predefined schema of a table which is used to store documents. In on-premises environments the content of the table is accessible both Transact-SQL and file system ways.\r\n",
                "\r\n",
                "In this recipe we'll create such table and then we'll try to use it for some data.\r\n",
                "\r\n",
                "## Creating the filetable"
            ],
            "metadata": {
                "azdata_cell_guid": "c099cddd-e197-4944-b826-2d694152bc92"
            }
        },
        {
            "cell_type": "code",
            "source": [
                "use Demo\r\n",
                "go\r\n",
                "\r\n",
                "create table MyDocuments as filetable\r\n",
                "go"
            ],
            "metadata": {
                "azdata_cell_guid": "3324b016-7302-45d3-8dde-86fff546d24c"
            },
            "outputs": [],
            "execution_count": null
        },
        {
            "cell_type": "markdown",
            "source": [
                "Let's try to observe what happened at the OS level. _(Note: Let's use File Explorer for it adding one simple text file called **hello.txt** and some folders like **img** or **temp**)_\n",
                "\n",
                "When everything is done in File Explorer, let's take a look to the table itself."
            ],
            "metadata": {
                "azdata_cell_guid": "6cbf9b71-fcfd-4205-ae6d-f48c5e446197"
            }
        },
        {
            "cell_type": "code",
            "source": [
                "select * from dbo.MyDocuments"
            ],
            "metadata": {
                "azdata_cell_guid": "87b7cfa6-42e2-47dc-a324-27586d73764a"
            },
            "outputs": [],
            "execution_count": null
        },
        {
            "cell_type": "markdown",
            "source": [
                "We can want more. Let's try to decode the stream of the hello.txt document."
            ],
            "metadata": {
                "azdata_cell_guid": "6800a1aa-0a85-44be-a937-18579ca8a85a"
            }
        },
        {
            "cell_type": "code",
            "source": [
                "select cast(file_stream as varchar) from dbo.MyDocuments where file_stream is not null"
            ],
            "metadata": {
                "azdata_cell_guid": "88446c44-667e-4b58-8c4b-554909301d2a"
            },
            "outputs": [],
            "execution_count": null
        }
    ]
}