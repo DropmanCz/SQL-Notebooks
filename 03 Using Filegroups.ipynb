{
    "metadata": {
        "kernelspec": {
            "name": "SQL",
            "display_name": "SQL",
            "language": "sql"
        },
        "language_info": {
            "name": "sql",
            "version": ""
        }
    },
    "nbformat_minor": 2,
    "nbformat": 4,
    "cells": [
        {
            "cell_type": "markdown",
            "source": [
                "# How to work with objects in filegroups\r\n",
                "In this recipe we'll explore how to create table and index to a filegroup and then how to move the table to some other filegroup.\r\n",
                "\r\n",
                "First of all, let's observe which filegroups we have in our *Demo* database."
            ],
            "metadata": {
                "azdata_cell_guid": "176f085e-c626-4f31-9ef1-091210301c24"
            }
        },
        {
            "cell_type": "code",
            "source": [
                "use Demo\r\n",
                "go\r\n",
                "\r\n",
                "select * from sys.filegroups;\r\n",
                ""
            ],
            "metadata": {
                "azdata_cell_guid": "f3671c34-1359-4497-8057-7e14de3cc82d"
            },
            "outputs": [],
            "execution_count": null
        },
        {
            "cell_type": "markdown",
            "source": [
                "## Creating a table and an index to different filegroups"
            ],
            "metadata": {
                "azdata_cell_guid": "466e6f7d-2365-4898-bc12-fb0d999006cb"
            }
        },
        {
            "cell_type": "code",
            "source": [
                "use Demo\r\n",
                "go\r\n",
                "\r\n",
                "CREATE TABLE dbo.TestTable\r\n",
                "(\r\n",
                "Id int not null identity constraint pk_TestTable primary key clustered\r\n",
                ", SomeValue dec(10, 3) not null    \r\n",
                ") ON [PRIMARY]\r\n",
                "go\r\n",
                "\r\n",
                "create index ix_TestTable_SomeValue on dbo.TestTable (SomeValue) ON FG1\r\n",
                "go"
            ],
            "metadata": {
                "azdata_cell_guid": "c090137a-f95f-4297-a7a0-41de4cee8a9b"
            },
            "outputs": [],
            "execution_count": null
        },
        {
            "cell_type": "markdown",
            "source": [
                "Let's take a look on both previously created objects."
            ],
            "metadata": {
                "azdata_cell_guid": "880b4318-fbc6-4b51-acb2-20e0fd4c47ab"
            }
        },
        {
            "cell_type": "code",
            "source": [
                "select \r\n",
                "    i.name as index_name\r\n",
                "    , s.name as filegroup_name\r\n",
                "from sys.indexes as i\r\n",
                "    join sys.data_spaces as s on i.data_space_id = s.data_space_id\r\n",
                "where i.name = 'ix_TestTable_SomeValue'\r\n",
                "\r\n",
                "select \r\n",
                "    i.name as index_name\r\n",
                "    , s.name as filegroup_name\r\n",
                "from sys.indexes as i\r\n",
                "    join sys.data_spaces as s on i.data_space_id = s.data_space_id\r\n",
                "where i.name = 'pk_TestTable'\r\n",
                "\r\n",
                "exec sp_help 'dbo.TestTable'"
            ],
            "metadata": {
                "azdata_cell_guid": "a39eb3b5-6f32-466a-b500-df466746519f"
            },
            "outputs": [],
            "execution_count": null
        },
        {
            "cell_type": "markdown",
            "source": [
                "## Moving table to different filegroup\r\n",
                "The trick is to move ***clustered index*** of the table between filegroups. Very often, primary key of a table is clustered index. If the table does not have clustered index, we can temporarily create one to the target filegroup. In following code sample we'll move the table and the non-clustered index between filegroups."
            ],
            "metadata": {
                "azdata_cell_guid": "f1e1e711-3757-404b-abb5-8b66dabdffac"
            }
        },
        {
            "cell_type": "code",
            "source": [
                "use Demo\r\n",
                "go\r\n",
                "\r\n",
                "alter table dbo.TestTable drop constraint pk_TestTable\r\n",
                "alter table dbo.TestTable add constraint pk_TestTable primary key (Id) on FG1\r\n",
                "go\r\n",
                "\r\n",
                "create index ix_TestTable_SomeValue on dbo.TestTable (SomeValue) with DROP_EXISTING on [PRIMARY]\r\n",
                "go"
            ],
            "metadata": {
                "azdata_cell_guid": "2ebe60de-4c80-4326-b66b-c0ee1c4c0698"
            },
            "outputs": [],
            "execution_count": null
        },
        {
            "cell_type": "markdown",
            "source": [
                "Now, we should be done. Let's review the storages ones again."
            ],
            "metadata": {
                "azdata_cell_guid": "47f93559-29bf-4d7f-bdac-c7fed7034ce4"
            }
        },
        {
            "cell_type": "code",
            "source": [
                "select \r\n",
                "    i.name as index_name\r\n",
                "    , s.name as filegroup_name\r\n",
                "from sys.indexes as i\r\n",
                "    join sys.data_spaces as s on i.data_space_id = s.data_space_id\r\n",
                "where i.name = 'ix_TestTable_SomeValue'\r\n",
                "\r\n",
                "select \r\n",
                "    i.name as index_name\r\n",
                "    , s.name as filegroup_name\r\n",
                "from sys.indexes as i\r\n",
                "    join sys.data_spaces as s on i.data_space_id = s.data_space_id\r\n",
                "where i.name = 'pk_TestTable'\r\n",
                "\r\n",
                "exec sp_help 'dbo.TestTable'"
            ],
            "metadata": {
                "azdata_cell_guid": "b201c615-fc80-4e93-a676-007f62cd7dff"
            },
            "outputs": [],
            "execution_count": null
        }
    ]
}