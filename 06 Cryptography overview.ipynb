{
    "metadata": {
        "kernelspec": {
            "name": "SQL",
            "display_name": "SQL",
            "language": "sql"
        },
        "language_info": {
            "name": "sql",
            "version": ""
        }
    },
    "nbformat_minor": 2,
    "nbformat": 4,
    "cells": [
        {
            "cell_type": "markdown",
            "source": [
                "# Short cryptography overview\r\n",
                "In this recipe we'll explore how to configure encrypted database and how to move cryptography objects between intances of SQL Server.\r\n",
                "\r\n",
                "## Creating DMK in master database and server certificate"
            ],
            "metadata": {
                "azdata_cell_guid": "fdad5d2d-c0b2-412a-9796-4f627df685a9"
            }
        },
        {
            "cell_type": "code",
            "source": [
                "use master\r\n",
                "go\r\n",
                "\r\n",
                "create master key encryption by password = 'Pa$$w0rd'\r\n",
                "go\r\n",
                "\r\n",
                "create certificate ServerCert\r\n",
                "    with subject = 'Demo'\r\n",
                "GO"
            ],
            "metadata": {
                "azdata_cell_guid": "e07e87e7-aa19-4905-a976-ba117f9712cb"
            },
            "outputs": [],
            "execution_count": null
        },
        {
            "cell_type": "markdown",
            "source": [
                "## How to back up the server certificate\r\n",
                "Following statement is needed for migration and also recovery purposes"
            ],
            "metadata": {
                "azdata_cell_guid": "085dacfc-6335-4910-936b-c1ba24c028f1"
            }
        },
        {
            "cell_type": "code",
            "source": [
                "use master\r\n",
                "GO\r\n",
                "\r\n",
                "backup certificate ServerCert to file = 'F:\\Backup\\ServerCert.cer'\r\n",
                "with private key \r\n",
                "(\r\n",
                "    file = 'F:\\Backup\\ServerCert.pvk'\r\n",
                "    , encryption by password = 'Pa$$w0rd'\r\n",
                ")\r\n",
                "go"
            ],
            "metadata": {
                "azdata_cell_guid": "5bff44ee-1626-46a0-b0e4-2b695db5cb00"
            },
            "outputs": [],
            "execution_count": null
        },
        {
            "cell_type": "markdown",
            "source": [
                "## Encrypt a database using Transparent Data Encryption feature\r\n",
                "Database encryption key is created and then the database is encrypted. It secures the database in the case of accidental attach to different instance of SQL Server."
            ],
            "metadata": {
                "azdata_cell_guid": "d705e198-615b-49b8-aec6-06e1b0ed4ee3"
            }
        },
        {
            "cell_type": "code",
            "source": [
                "use Demo\r\n",
                "go\r\n",
                "  \r\n",
                "CREATE DATABASE ENCRYPTION KEY\r\n",
                "    WITH ALGORITHM = AES_128\r\n",
                "    ENCRYPTION BY SERVER CERTIFICATE ServerCert\r\n",
                "go\r\n",
                "\r\n",
                "alter database Demo set encryption ON\r\n",
                "go"
            ],
            "metadata": {
                "azdata_cell_guid": "5549a2f3-9d11-4f69-9a73-b76a2f2017c2",
                "tags": []
            },
            "outputs": [],
            "execution_count": null
        }
    ]
}