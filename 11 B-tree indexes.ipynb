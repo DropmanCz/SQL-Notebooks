{
    "metadata": {
        "kernelspec": {
            "name": "SQL",
            "display_name": "SQL",
            "language": "sql"
        },
        "language_info": {
            "name": "sql",
            "version": ""
        }
    },
    "nbformat_minor": 2,
    "nbformat": 4,
    "cells": [
        {
            "cell_type": "markdown",
            "source": [
                "# How to work with B-tree indexes\r\n",
                "In this recipe we will explore how indexes behave:\r\n",
                "1. We'll create a heap and we'll test a query on it\r\n",
                "2. We'll create nonclusted index\r\n",
                "3. We'll create clustered index\r\n",
                "4. We'll create filtered index\r\n",
                "\r\n",
                "Let's create a table called SalesOrders and let's fill it with data\r\n",
                "\r\n",
                "## Preparation of the data"
            ],
            "metadata": {
                "azdata_cell_guid": "03383a03-6b4e-4f03-b2d5-21983cf5f4dc"
            }
        },
        {
            "cell_type": "code",
            "source": [
                "set nocount on\r\n",
                "go\r\n",
                "\r\n",
                "-- too big transaction is comming in a moment\r\n",
                "alter database Demo modify file (name = 'DemoLog', size = 4096 MB)\r\n",
                "alter database Demo set recovery simple\r\n",
                "go\r\n",
                "\r\n",
                "use Demo\r\n",
                "go\r\n",
                "\r\n",
                "-- this table is subject for optimization\r\n",
                "drop table if exists SalesOrders\r\n",
                "create table SalesOrders\r\n",
                "(\r\n",
                "    Id int not null identity constraint pk_SalesOrders primary key nonclustered\r\n",
                "    , OrderDate date not null\r\n",
                "    , OrderNumber nvarchar(10) not null\r\n",
                "    , CustomerId int not null\r\n",
                "    , Subtotal dec(10, 3) not null\r\n",
                "    , OrderStatus tinyint not null \r\n",
                ")\r\n",
                "GO\r\n",
                "\r\n",
                "-- this table serves as a multiplicator and will be dropped\r\n",
                "drop table if exists Numbers \r\n",
                "create table Numbers (Id int not null identity)\r\n",
                "go\r\n",
                "insert Numbers default values \r\n",
                "go 100\r\n",
                "\r\n",
                "-- dates for last three years\r\n",
                "drop table if exists #dates\r\n",
                ";with cte as\r\n",
                "(\r\n",
                "select cast('20180101' as date) as TheDate\r\n",
                "union all\r\n",
                "select dateadd(dd, 1, cte.TheDate) from cte where cte.TheDate < '20210331'\r\n",
                ")\r\n",
                "select * \r\n",
                "into #dates\r\n",
                "from cte\r\n",
                "option (maxrecursion 2000)\r\n",
                "\r\n",
                "declare @date date\r\n",
                "\t, @OrderNo tinyint\r\n",
                "\t, @i tinyint = 1\r\n",
                "\r\n",
                "declare crs cursor \r\n",
                "for\r\n",
                "select TheDate from #dates\r\n",
                "open crs\r\n",
                "fetch crs into @date\r\n",
                "while @@FETCH_STATUS = 0\r\n",
                " begin\r\n",
                "\tset @OrderNo = ceiling(rand() * 10)\r\n",
                "\tset @i = 1\r\n",
                "\twhile @i <= @OrderNo\r\n",
                "\t begin\r\n",
                "\t\tinsert SalesOrders (OrderDate, OrderNumber, CustomerId, Subtotal, OrderStatus)\r\n",
                "\t\tselect @date, concat('OD', year(@date), @i), Numbers.Id, rand() * 1000, cast((rand() * 100) as int) % 5\r\n",
                "\t\tfrom Numbers\r\n",
                "\t\tset @i += 1\r\n",
                "\t end\r\n",
                "\tfetch crs into @date\r\n",
                " end\r\n",
                "close crs\r\n",
                "deallocate crs\r\n",
                "go\r\n",
                "\r\n",
                "drop table if exists Numbers\r\n",
                "go\r\n",
                "\r\n",
                "-- let's create more records\r\n",
                "insert SalesOrders (OrderDate, OrderNumber, CustomerId, Subtotal, OrderStatus)\r\n",
                "select top 4000000 a.OrderDate, a.OrderNumber, a.CustomerId, a.Subtotal, a.OrderStatus\r\n",
                "from SalesOrders a\r\n",
                "\tcross apply SalesOrders b"
            ],
            "metadata": {
                "azdata_cell_guid": "34febcce-7ff8-43e0-b8e0-6e7e4fc6006d"
            },
            "outputs": [],
            "execution_count": null
        },
        {
            "cell_type": "markdown",
            "source": [
                "The SalesOrders table contains approximatelly 6.5 millon of rows. The table is heap. Let's execute three queries:\n",
                "\n",
                "- query seeking by primary key\n",
                "    \n",
                "- query seeking some data\n",
                "    \n",
                "- aggregate query\n",
                "    \n",
                "\n",
                "## Querying heap\n",
                "We'll observe number of reads, CPU times and DOP."
            ],
            "metadata": {
                "azdata_cell_guid": "0940d1f1-4370-4374-bd97-c9da5ec5dc36"
            }
        },
        {
            "cell_type": "code",
            "source": [
                "use Demo\r\n",
                "go\r\n",
                "\r\n",
                "drop index ix_SalesOrders_OrderDate on dbo.SalesOrders\r\n",
                "drop index ix_SalesOrders_CustomerId on dbo.SalesOrders"
            ],
            "metadata": {
                "azdata_cell_guid": "56f2641b-08fa-4dde-91c1-d1a66125f913"
            },
            "outputs": [],
            "execution_count": null
        },
        {
            "cell_type": "code",
            "source": [
                "use Demo\r\n",
                "go\r\n",
                "\r\n",
                "set statistics IO, time ON\r\n",
                "set statistics profile on\r\n",
                "go\r\n",
                "select * from SalesOrders where Id = 234567\r\n",
                "go\r\n",
                "select * from SalesOrders where OrderDate between '2020-04-01' and '2020-04-30'\r\n",
                "go\r\n",
                "\r\n",
                "SELECT\r\n",
                "    CustomerId\r\n",
                "    , sum(Subtotal)\r\n",
                "from SalesOrders\r\n",
                "group by CustomerId\r\n",
                "order by CustomerId\r\n",
                "go"
            ],
            "metadata": {
                "azdata_cell_guid": "c0f09aa7-dcdc-4121-8995-c6459ee1bab8"
            },
            "outputs": [],
            "execution_count": null
        },
        {
            "cell_type": "markdown",
            "source": [
                "With an exception of first query, whole table is read every time when it's queried. Now, let's create indexes on OrderDate column (support for date filter) and on CustomerId column (support for aggregation).\n",
                "  \n",
                "## Creating indexes"
            ],
            "metadata": {
                "azdata_cell_guid": "c1cd8fd9-60c3-4e26-8036-8939ccd4f28a"
            }
        },
        {
            "cell_type": "code",
            "source": [
                "use Demo\r\n",
                "go\r\n",
                "\r\n",
                "create index ix_SalesOrders_OrderDate on dbo.SalesOrders (OrderDate)\r\n",
                "create index ix_SalesOrders_CustomerId on dbo.SalesOrders (CustomerId)"
            ],
            "metadata": {
                "azdata_cell_guid": "7634e074-60ec-44b6-bf64-27f5f637e292"
            },
            "outputs": [],
            "execution_count": null
        },
        {
            "cell_type": "code",
            "source": [
                "use Demo\r\n",
                "go\r\n",
                "\r\n",
                "set statistics IO, time ON\r\n",
                "set statistics profile on\r\n",
                "go\r\n",
                "\r\n",
                "select * from SalesOrders where OrderDate between '2020-04-01' and '2020-04-30'\r\n",
                "go\r\n",
                "\r\n",
                "SELECT\r\n",
                "    CustomerId\r\n",
                "    , sum(Subtotal)\r\n",
                "from SalesOrders\r\n",
                "group by CustomerId\r\n",
                "order by CustomerId\r\n",
                "go"
            ],
            "metadata": {
                "azdata_cell_guid": "3784e346-0cc4-4c6d-9d73-b058844df84d"
            },
            "outputs": [],
            "execution_count": null
        },
        {
            "cell_type": "markdown",
            "source": [
                "Let's comment results. Basically, no change is there. \n",
                "\n",
                "  \n",
                "\n",
                "The query seeking for range of values uses \\* in SELECT clause. The number of records (even if it looks like small portion of data, actually 16400/6.5mio of records) is big enough and SQL Server decided to use table scan instead of index seek followed with 16400 RID lookups (while the lookup is an iteration).\n",
                "\n",
                "  \n",
                "\n",
                "Second query does not have all columns covered in the newly created index. While there's no predicate, SQL Server still needs to scan all data from the table. \n",
                "\n",
                "  \n",
                "\n",
                "As a conclusion we can say, that index works only in conjuction with the design of the query. Let's correct problems here. We will make three actions:\n",
                "\n",
                "1\\. We will reduce the number of records from first query\n",
                "\n",
                "2\\. We will replace the \\* with a list of columns\n",
                "\n",
                "3\\. We will redesign index for second query"
            ],
            "metadata": {
                "azdata_cell_guid": "5916bd75-a94b-4cef-b205-6b1fcb9a431b"
            }
        },
        {
            "cell_type": "code",
            "source": [
                "use Demo\r\n",
                "GO\r\n",
                "\r\n",
                "select * from SalesOrders where OrderDate between '2020-04-01' and '2020-04-01'\r\n",
                "go\r\n",
                "\r\n",
                "select OrderDate from SalesOrders\r\n",
                "GO\r\n",
                "\r\n",
                "create index ix_SalesOrders_CustomerId on dbo.SalesOrders (CustomerId, Subtotal) with DROP_EXISTING\r\n",
                "go\r\n",
                "\r\n",
                "SELECT\r\n",
                "    CustomerId\r\n",
                "    , sum(Subtotal)\r\n",
                "from SalesOrders\r\n",
                "group by CustomerId\r\n",
                "order by CustomerId\r\n",
                "go"
            ],
            "metadata": {
                "azdata_cell_guid": "baf6d1ee-9cd1-4f06-b2c5-43b9f1e82121",
                "tags": []
            },
            "outputs": [],
            "execution_count": null
        },
        {
            "cell_type": "markdown",
            "source": [
                "## Creating filtered index\r\n",
                "Let's assume that the OrderStatus column contains values from 0 to 4 (from new order to finished order). Most of records will have the value of 4 (finished order). So we would like create index on the OrderStatus column. The distribution of data in this column is really skewed. So we are going to create filtered index."
            ],
            "metadata": {
                "azdata_cell_guid": "53d9a4b8-cfd8-4b51-803a-9cf52cfa3183"
            }
        },
        {
            "cell_type": "code",
            "source": [
                "use Demo\r\n",
                "go\r\n",
                "-- data prep.\r\n",
                "update SalesOrders set OrderStatus = 4 where OrderDate < '2021-03-20'\r\n",
                "\r\n",
                "select\r\n",
                "    OrderStatus\r\n",
                "    , count(*)\r\n",
                "from SalesOrders\r\n",
                "group by OrderStatus"
            ],
            "metadata": {
                "azdata_cell_guid": "42bed4f5-a47a-4b82-986e-d3d2b4909d48"
            },
            "outputs": [],
            "execution_count": null
        },
        {
            "cell_type": "code",
            "source": [
                "use Demo\r\n",
                "go\r\n",
                "\r\n",
                "create index ix_SalesOrders_OrderStatus on SalesOrders (OrderStatus)\r\n",
                "where OrderStatus < 4"
            ],
            "metadata": {
                "azdata_cell_guid": "ea4d6b55-0fc5-4236-b3d3-6a1175bd0c41"
            },
            "outputs": [],
            "execution_count": null
        },
        {
            "cell_type": "code",
            "source": [
                "use Demo\r\n",
                "go\r\n",
                "select * from SalesOrders where OrderStatus = 3"
            ],
            "metadata": {
                "azdata_cell_guid": "7c3839c4-cbb3-464a-b22b-e05465b42a54"
            },
            "outputs": [],
            "execution_count": null
        },
        {
            "cell_type": "markdown",
            "source": [
                "## Conclusion\n",
                "\n",
                "1. When index does not contain all columns used in a query, SQL Server decides if it's cheaper to scan all data, or to invoke Nested Loops followed by RID Lookup or Key Lookup\n",
                "2. When index contains all columns needed, it's used for Index Scan operator. SQL Server does not access base table.\n",
                "3. Filtered indexes are great for skewed distribution of data"
            ],
            "metadata": {
                "azdata_cell_guid": "d9a6ef2b-56bb-4a60-b00f-32786e3cacfe"
            }
        }
    ]
}