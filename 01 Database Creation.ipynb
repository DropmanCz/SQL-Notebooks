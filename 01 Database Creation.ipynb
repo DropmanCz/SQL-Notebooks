{
    "metadata": {
        "kernelspec": {
            "name": "SQL",
            "display_name": "SQL",
            "language": "sql"
        },
        "language_info": {
            "name": "sql",
            "version": ""
        }
    },
    "nbformat_minor": 2,
    "nbformat": 4,
    "cells": [
        {
            "cell_type": "markdown",
            "source": [
                "# Working with databases\n",
                "\n",
                "This demo will show\n",
                "\n",
                "- how to create a database called _Demo_\n",
                "- how to add row based filegroup and file into it\n",
                "- how to configure some properties of the database"
            ],
            "metadata": {
                "azdata_cell_guid": "40ef7aed-f512-451e-8487-c41f82afd65d"
            }
        },
        {
            "cell_type": "markdown",
            "source": [
                "## Creating new database\r\n",
                "Following statement will create a database called *Demo*. Names and file paths should be adjusted with real environment if needed."
            ],
            "metadata": {
                "azdata_cell_guid": "d4008cec-871b-4b08-9a18-7ed6654a7d01"
            }
        },
        {
            "cell_type": "code",
            "source": [
                "use master\r\n",
                "go\r\n",
                "\r\n",
                "-- some house keeping\r\n",
                "drop database if exists Demo\r\n",
                "go\r\n",
                "\r\n",
                "create database Demo\r\n",
                "ON\r\n",
                "(\r\n",
                "    name = 'DemoData'\r\n",
                "    , filename = 'F:\\Data\\Demo.mdf'\r\n",
                "    , size = 256 MB\r\n",
                "    , maxsize = 2 GB\r\n",
                "    , filegrowth = 256 MB\r\n",
                ")\r\n",
                "LOG ON\r\n",
                "(\r\n",
                "    name = 'DemoLog'\r\n",
                "    , filename = 'F:\\Log\\Demo.ldf'\r\n",
                "    , size = 256 MB\r\n",
                "    , maxsize = 2 GB\r\n",
                "    , filegrowth = 256 MB\r\n",
                ")\r\n",
                "GO"
            ],
            "metadata": {
                "azdata_cell_guid": "930f9071-48c3-43ae-941c-05618daa068b",
                "tags": []
            },
            "outputs": [],
            "execution_count": null
        },
        {
            "cell_type": "markdown",
            "source": [
                "Let's comment couple of interesting points in preceding statement:\r\n",
                "- The simplest statement for a database creation is **CREATE DATABASE Demo**, but it leaves all file properties at default values, which's meaningless. \r\n",
                "- That's why each file is described separately.\r\n",
                "    - each file contains logical name (the *NAME* property) used for administrative purposes\r\n",
                "    - each file contains physical location (the *FILENAME* property)\r\n",
                "    - size should be set of meaningful value regarding estimated amount of data\r\n",
                "    - the *AUTOGROWTH* and *MAXSIZE* properties allows SQL Server to ask OS for more room in the file (increment is set by *AUTOGROWTH* property). This property is used for exceptional cases like very big transaction loading big amount of data. ***Manual growth is preferred***."
            ],
            "metadata": {
                "azdata_cell_guid": "037cafec-7107-4f8c-a952-cf4522566d77"
            }
        },
        {
            "cell_type": "markdown",
            "source": [
                "### Metadata of newly created database\r\n",
                "- the database itself\r\n",
                "- list of files\r\n",
                "- list of filegroups"
            ],
            "metadata": {
                "azdata_cell_guid": "35f5e8e1-59b2-49c7-ba9d-7056b419ebac"
            }
        },
        {
            "cell_type": "code",
            "source": [
                "use Demo\r\n",
                "go\r\n",
                "\r\n",
                "select database_id\r\n",
                "    , file_id\r\n",
                "    , type_desc\r\n",
                "    , physical_name\r\n",
                "    , state_desc\r\n",
                "    , [size]\r\n",
                "    , max_size\r\n",
                "    , growth\r\n",
                "from sys.master_files where database_id = db_id('Demo');\r\n",
                "\r\n",
                "select name\r\n",
                "    , type_desc\r\n",
                "    , is_default\r\n",
                "    , is_read_only\r\n",
                "    , is_autogrow_all_files\r\n",
                "from sys.filegroups;\r\n",
                "\r\n",
                "select * from sys.dm_db_file_space_usage;"
            ],
            "metadata": {
                "azdata_cell_guid": "7759397a-42d6-4400-8415-87c8d86fe09f",
                "tags": []
            },
            "outputs": [],
            "execution_count": null
        },
        {
            "cell_type": "markdown",
            "source": [
                "## Adding a filegroup to an existing database\n",
                "\n",
                "Following example shows how to add a filegroup to our *Demo* db, and how to add file(s) to it."
            ],
            "metadata": {
                "azdata_cell_guid": "e67cdf2b-0d46-4dee-bc7b-7b1704ef848e"
            }
        },
        {
            "cell_type": "code",
            "source": [
                "use master\r\n",
                "go\r\n",
                "\r\n",
                "alter database Demo add filegroup FG1\r\n",
                "go\r\n",
                "\r\n",
                "alter database Demo add file\r\n",
                "(\r\n",
                "    name = 'DemoData2'\r\n",
                "    , filename = 'F:\\Data\\Demo2.ndf'\r\n",
                "    , size = 256 MB\r\n",
                "    , maxsize = 2 GB\r\n",
                "    , filegrowth = 256 MB\r\n",
                ") to filegroup FG1"
            ],
            "metadata": {
                "azdata_cell_guid": "313e7037-18c4-48ea-8443-cc95878017da"
            },
            "outputs": [],
            "execution_count": 8
        },
        {
            "cell_type": "markdown",
            "source": [
                "## Working with database properties\r\n",
                "When we want to configure some of database properties, we will use three types of syntax\r\n",
                "- **ALTER DATABASE SCOPED CONFIGURATION**\r\n",
                "- **ALTER DATABASE name SET property = value** or **ALTER DATABASE name SET property value**\r\n",
                "- **ALTER DATABASE name SET property**\r\n",
                "\r\n",
                "As there is no visible rule which type of syntax is the right one, we can follow docs.microsoft.com documentation, or we can use SQL Server Management Studio. Anyway, some of examples are provided as follows"
            ],
            "metadata": {
                "azdata_cell_guid": "a4581b22-9be4-4a09-bf8e-a12fca9e351b"
            }
        },
        {
            "cell_type": "code",
            "source": [
                "-- let's set the database to single user mode\r\n",
                "use master\r\n",
                "go\r\n",
                "\r\n",
                "alter database Demo set single_user with rollback immediate\r\n",
                "go\r\n",
                "-- let's allow the database to be accessible back again\r\n",
                "alter database Demo set multi_user\r\n",
                "go\r\n",
                "\r\n",
                "-- let's configure proper recovery model of a database\r\n",
                "alter database Demo set recovery full\r\n",
                "go\r\n",
                "\r\n",
                "-- let's limit the number of CPUs attending in one parallel query\r\n",
                "use Demo\r\n",
                "go\r\n",
                "alter database scoped configuration set maxdop = 2\r\n",
                "go"
            ],
            "metadata": {
                "azdata_cell_guid": "ad887b84-1c02-4485-87c0-b6d29c1fadb8"
            },
            "outputs": [],
            "execution_count": null
        }
    ]
}