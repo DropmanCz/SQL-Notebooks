{
    "metadata": {
        "kernelspec": {
            "name": "SQL",
            "display_name": "SQL",
            "language": "sql"
        },
        "language_info": {
            "name": "sql",
            "version": ""
        }
    },
    "nbformat_minor": 2,
    "nbformat": 4,
    "cells": [
        {
            "cell_type": "markdown",
            "source": [
                "# How to configure and use _FILESTREAM_ filegroups\n",
                "\n",
                "Filestream filgroups are useful for BLOBs greater than 1 MB. For smaller BLOBs it's usually better to keep the BLOB within table records. To use filestreams, first of all we need to configure our instance of SQL Server. The configuration consists of three steps:\n",
                "\n",
                "1. Instance configuration in SQL Server Configuration manager\n",
                "2. Instance configuration in SSMS\n",
                "3. Database configuration\n",
                "4. Creation of filestream filegroup\n",
                "\n",
                "## 1\\. SQL Server Configuration Manager (SSCM)\n",
                "\n",
                "In SSCM right-click your instance, select **Properties** and go to tab labeled as **FILESTREAM**. Turn on all checkboxes as shown on following image. It allows users to use **filetables** with Windows file share access.\n",
                "\n",
                "![](.\\img\\01_filestream_config.png)\n",
                "\n",
                "Then we'll continue with next step.\n",
                "\n",
                "## 2\\. Instance configuration\n",
                "\n",
                "Following statement enables filestream at instance level."
            ],
            "metadata": {
                "azdata_cell_guid": "41cff292-3dda-4ee5-a2f5-cd60deb706b2"
            }
        },
        {
            "cell_type": "code",
            "source": [
                "use master\r\n",
                "go\r\n",
                "\r\n",
                "exec sp_configure 'filestream access level', 2\r\n",
                "reconfigure\r\n",
                "go"
            ],
            "metadata": {
                "azdata_cell_guid": "985d7a5a-44f1-4090-9198-b02849412209"
            },
            "outputs": [],
            "execution_count": null
        },
        {
            "cell_type": "markdown",
            "source": [
                "## 3. Database configuration\r\n",
                "At database level, we need to do two steps:\r\n",
                "1. Enable the filestream\r\n",
                "2. Give a name to filestream fileshare"
            ],
            "metadata": {
                "azdata_cell_guid": "744d8b35-9841-4f9e-8fbe-ccc19289389a"
            }
        },
        {
            "cell_type": "code",
            "source": [
                "use Demo\r\n",
                "go\r\n",
                "\r\n",
                "alter database current set filestream (non_transacted_access = full, directory_name = 'DemoDbFilestream')\r\n",
                "go\r\n",
                ""
            ],
            "metadata": {
                "azdata_cell_guid": "eea01911-e76f-4525-a8ed-b84072e84419"
            },
            "outputs": [],
            "execution_count": null
        },
        {
            "cell_type": "markdown",
            "source": [
                "Now the server is ready for filestreams. The step #3 will be repeated in every database in which we'll realize the need for filestream. As last step, we'll create filestream filegroup and a folder into it."
            ],
            "metadata": {
                "azdata_cell_guid": "24dca227-0886-4735-a151-b7505271b605"
            }
        },
        {
            "cell_type": "code",
            "source": [
                "alter database Demo add filegroup DOCS contains filestream\r\n",
                "go\r\n",
                "\r\n",
                "alter database Demo add file\r\n",
                "(\r\n",
                "name = 'Documents'\r\n",
                ", filename = 'F:\\FileStream\\DemoDocs'\r\n",
                ") to filegroup DOCS\r\n",
                "go"
            ],
            "metadata": {
                "azdata_cell_guid": "c906b945-9e2f-4e6b-b2a0-96b8f17ca093"
            },
            "outputs": [],
            "execution_count": null
        }
    ]
}