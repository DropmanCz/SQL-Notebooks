{
    "metadata": {
        "kernelspec": {
            "name": "SQL",
            "display_name": "SQL",
            "language": "sql"
        },
        "language_info": {
            "name": "sql",
            "version": ""
        }
    },
    "nbformat_minor": 2,
    "nbformat": 4,
    "cells": [
        {
            "cell_type": "markdown",
            "source": [
                "# Authentication and authorization\r\n",
                "This demo will show following actions:\r\n",
                "- login creation\r\n",
                "- server role creation\r\n",
                "- database user creation\r\n",
                "- permissions hierarchy\r\n",
                "- setting permissions for principals\r\n",
                "- observing effective permissions for some user\r\n",
                "- moving SQL logins between instances of SQL Server\r\n",
                "\r\n",
                "## How to create logins\r\n",
                "Following statements will create Windows login and SQL login. We can see couple of interesting properties configured in SQL login creation:\r\n",
                "- *CHECK_POLICY*: SQL Server uses GPO to check for password policies. For legacy systems or for users who are not allowed to change password on regular basis it is needed to check to password policy off.\r\n",
                "- *DEFAULT_DATABASE*: The authentication is againts an instance and a database. The database must exist! If it does not, the authentication fails. Database master has **guest** database user account always enabled, so the default_database whould be left on its default value - master.\r\n",
                "- *DEFALUT_LANGUAGE*: It is a language of error messages, not a content of user data! If you want to make some canadian joke, switch it to something actually exotic."
            ],
            "metadata": {
                "azdata_cell_guid": "5c129080-67fd-4a56-935a-0d43cdcbc40b"
            }
        },
        {
            "cell_type": "code",
            "source": [
                "use master\r\n",
                "go\r\n",
                "\r\n",
                "-- windows login\r\n",
                "if exists(select * from sys.server_principals where name = 'adventureworks\\marek')\r\n",
                "    drop login [adventureworks\\marek]\r\n",
                "go\r\n",
                "\r\n",
                "-- create login [adventureworks\\marek] from windows\r\n",
                "-- go\r\n",
                "\r\n",
                "-- sql login\r\n",
                "if exists(select * from sys.server_principals where name = 'david')\r\n",
                "    drop login David\r\n",
                "\r\n",
                "create login David with password = 'Pa$$w0rd', check_policy = off, default_database = master, default_language = English\r\n",
                "go"
            ],
            "metadata": {
                "azdata_cell_guid": "1e0e24c5-885c-4476-836b-4724cc8f17f5"
            },
            "outputs": [],
            "execution_count": null
        },
        {
            "cell_type": "markdown",
            "source": [
                "## Server role creation\n",
                "\n",
                "Since 2012, SQL Server allows to create server-level user roles. It is useful when some SQL Server users need to have some server level privileges, i. e. a creation of new databases."
            ],
            "metadata": {
                "azdata_cell_guid": "6ed0ebf8-a30a-4ea8-9dd7-6bd694c6fdde"
            }
        },
        {
            "cell_type": "code",
            "source": [
                "use master\r\n",
                "go\r\n",
                "\r\n",
                "if exists(select * from sys.server_principals where type = 'R' and name = 'nonAdmins')\r\n",
                "    drop server role nonAdmins\r\n",
                "go\r\n",
                "\r\n",
                "create server role nonAdmins\r\n",
                "go\r\n",
                "\r\n",
                "alter server role nonAdmins add member David\r\n",
                "go\r\n",
                ""
            ],
            "metadata": {
                "azdata_cell_guid": "61ec9941-2fa9-4909-9b7a-3f18bf18a46a"
            },
            "outputs": [],
            "execution_count": null
        },
        {
            "cell_type": "markdown",
            "source": [
                "## Creating database user\r\n",
                "Very simple statement, let's execute it. When the user is being created, we can set its *DEFAULT_SCHEMA*. It allows the user to ommit prefix of the schema in statements. Avoid this technique, it leads to:\r\n",
                "1. Schema name resolution (performance impact)\r\n",
                "2. Unstable, not reliable code (the property can be changed any time)"
            ],
            "metadata": {
                "azdata_cell_guid": "c1809c19-63f5-474d-af28-0e44fce21b3d"
            }
        },
        {
            "cell_type": "code",
            "source": [
                "use Demo\r\n",
                "GO\r\n",
                "\r\n",
                "if exists(select * from sys.database_principals where name = 'David')\r\n",
                "    drop user David;\r\n",
                "go\r\n",
                "\r\n",
                "create user David for login David with default_schema = dbo\r\n",
                "go"
            ],
            "metadata": {
                "azdata_cell_guid": "1cd84084-4c2e-4ace-9ee0-10f9e5727b2f"
            },
            "outputs": [],
            "execution_count": null
        },
        {
            "cell_type": "markdown",
            "source": [
                "## Working with permissions\r\n",
                "Principals, when created, have very short list of permissions. Usually we need to set more permissions to principals. First of all, it's good to know how to ask for simple \"cheat sheet\" showing a hierarchy of permissions. Let's execute following query."
            ],
            "metadata": {
                "azdata_cell_guid": "583fd3c2-0b9b-41d1-ac96-dbd9beb2f1d9"
            }
        },
        {
            "cell_type": "code",
            "source": [
                "declare @level nvarchar(25) = 'SERVER'\r\n",
                ";with cte as\r\n",
                "(\r\n",
                "select permission_name, covering_permission_name, 1 as permission_level from sys.fn_builtin_permissions(@level) where covering_permission_name = ''\r\n",
                "union all\r\n",
                "select p.permission_name, p.covering_permission_name, cte.permission_level + 1 from sys.fn_builtin_permissions(@level) as p join cte on p.covering_permission_name = cte.permission_name\r\n",
                ")\r\n",
                "select * from cte"
            ],
            "metadata": {
                "azdata_cell_guid": "a2cd45a5-3c2c-45bf-b77b-e2698a4aebc7"
            },
            "outputs": [],
            "execution_count": null
        },
        {
            "cell_type": "markdown",
            "source": [
                "Preceding query can take also other parameter's values: **DATABASE** and **SCHEMA**.\r\n",
                "\r\n",
                "Now we can assign some permissions to, say, database user David."
            ],
            "metadata": {
                "azdata_cell_guid": "13716dae-e951-4e97-8008-3b52a6d87b9b"
            }
        },
        {
            "cell_type": "code",
            "source": [
                "GRANT INSERT, SELECT, UPDATE ON OBJECT::TestTable TO David"
            ],
            "metadata": {
                "azdata_cell_guid": "29853c86-3d5e-44c4-8e7e-d9796f65e80c"
            },
            "outputs": [],
            "execution_count": null
        },
        {
            "cell_type": "markdown",
            "source": [
                "## Observing current permissions assigned to user\n",
                "\n",
                "Even if we have an option to right-click each user or object using _SSMS_ and observe assign properties using the GUI approach, sometimes it's very feasible to have bigger picture of permissions assigned to user. Following query uses some metadata objects to show who has which permissions."
            ],
            "metadata": {
                "azdata_cell_guid": "f72f14bf-f682-474d-b154-ebd7e0e629fe"
            }
        },
        {
            "cell_type": "code",
            "source": [
                "use Demo\r\n",
                "GO\r\n",
                "\r\n",
                "select\r\n",
                "\tdp.name as user_name\r\n",
                "\t, p.class_desc\r\n",
                "\t, p.permission_name\r\n",
                "\t, s.name as schema_name\r\n",
                "\t, concat(OBJECT_SCHEMA_NAME(o.object_id), '.', o.name) as full_object_name\r\n",
                "\t--, p.*\r\n",
                "from sys.database_principals as dp\r\n",
                "\tjoin sys.database_permissions as p on dp.principal_id = p.grantee_principal_id\r\n",
                "\tleft join sys.schemas as s on p.major_id = s.schema_id and p.class_desc = 'SCHEMA'\r\n",
                "\tleft join sys.all_objects as o on p.major_id = o.object_id and p.class_desc = 'OBJECT_OR_COLUMN'\r\n",
                "where dp.name = 'David'\r\n",
                "\tand p.state_desc = 'GRANT'\r\n",
                "\tand p.class_desc != 'DATABASE'"
            ],
            "metadata": {
                "azdata_cell_guid": "0ed5b591-88f7-41d9-923d-c46f2f5c6993"
            },
            "outputs": [],
            "execution_count": null
        },
        {
            "cell_type": "markdown",
            "source": [
                "## Moving SQL logins between instances of a SQL Server\r\n",
                "Many times it happens that a database is migrated between instances of SQL Server. It's not an issue for Windows login when the database is being moved within a domain, because the login's SID remains the same. But we should migrate SQL logns as well, and we need to do it with following query. The query extracts all SQL Logins and keeps their SIDs and hashed passwords."
            ],
            "metadata": {
                "azdata_cell_guid": "b48342ab-6bb3-42c0-8ae0-bf01c5e2be93"
            }
        },
        {
            "cell_type": "code",
            "source": [
                ";with logins as\r\n",
                "(\r\n",
                "select name\r\n",
                ", convert(varchar(max), cast(sid as varbinary(max)), 1) as sidString\r\n",
                ", CONVERT(varchar(max), cast(LOGINPROPERTY(name, 'PasswordHash') as varbinary(max)), 1) as PwdHashString\r\n",
                "from sys.server_principals where type = 'S'\r\n",
                "and not name = 'sa' and not name like '##%'\r\n",
                ")\r\n",
                "select\r\n",
                "concat('CREATE LOGIN ', name, ' with password = ', PwdHashString, ' hashed, sid = ', sidString) as sql_statement\r\n",
                "from logins"
            ],
            "metadata": {
                "azdata_cell_guid": "fb40c18b-9c39-4e91-a456-33926cce456c"
            },
            "outputs": [],
            "execution_count": null
        }
    ]
}