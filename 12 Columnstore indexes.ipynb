{
    "metadata": {
        "kernelspec": {
            "name": "SQL",
            "display_name": "SQL",
            "language": "sql"
        },
        "language_info": {
            "name": "sql",
            "version": ""
        }
    },
    "nbformat_minor": 2,
    "nbformat": 4,
    "cells": [
        {
            "cell_type": "markdown",
            "source": [
                "# How to work with columnstore indexes\r\n",
                "In previous demo we tried to optimize SalesOrder table for aggregate query using B-tree indexes. Now, we'll make a step ahead using columnstore index.\r\n",
                "\r\n",
                "Let's recall the aggregate query shortly."
            ],
            "metadata": {
                "azdata_cell_guid": "45ac8433-2037-4e56-b00c-2447e7f27062"
            }
        },
        {
            "cell_type": "code",
            "source": [
                "use Demo\r\n",
                "go\r\n",
                "set statistics time, io ON\r\n",
                "set statistics profile on\r\n",
                "\r\n",
                "-- create index ix_SalesOrders_CustomerId on dbo.SalesOrders (CustomerId, Subtotal) with DROP_EXISTING\r\n",
                "-- go\r\n",
                "\r\n",
                "SELECT\r\n",
                "    CustomerId\r\n",
                "    , sum(Subtotal)\r\n",
                "from SalesOrders\r\n",
                "group by CustomerId\r\n",
                "order by CustomerId\r\n",
                "go"
            ],
            "metadata": {
                "azdata_cell_guid": "0697e5c9-67b2-41df-9304-c7b458bc81ba"
            },
            "outputs": [],
            "execution_count": null
        },
        {
            "cell_type": "markdown",
            "source": [
                "## Nonclustered columnstore  \n",
                "\n",
                "Preceding query is covered by the index called ix\\_SalesOrders\\_CustomerId with couple of included column. This index eliminated the need to scan whole table. But what if user will execute a query using other grouping criteria? The index will not be used anymore. Let's try to create nonclustered columnstore index."
            ],
            "metadata": {
                "azdata_cell_guid": "a121486e-245a-45f4-a54d-8c648f980ba9"
            }
        },
        {
            "cell_type": "code",
            "source": [
                "use Demo\r\n",
                "go\r\n",
                "\r\n",
                "create columnstore index cs_SalesOrders on SalesOrders \r\n",
                "(\r\n",
                "    Id\r\n",
                "    , OrderDate\r\n",
                "    , OrderNumber\r\n",
                "    , CustomerId\r\n",
                "    , Subtotal\r\n",
                "    , OrderStatus\r\n",
                ")\r\n",
                "go"
            ],
            "metadata": {
                "azdata_cell_guid": "e82eda60-3f8a-4c42-95a0-c9e7fe9cfa36"
            },
            "outputs": [],
            "execution_count": null
        },
        {
            "cell_type": "markdown",
            "source": [
                "Now, when the index is created, we can test its performance with following queries. First query is the same as in previous example, Second query uses different gouping criteria."
            ],
            "metadata": {
                "azdata_cell_guid": "5e28fda4-19a0-4371-8bd1-5d799ab1df3c"
            }
        },
        {
            "cell_type": "code",
            "source": [
                "use Demo\r\n",
                "go\r\n",
                "\r\n",
                "SELECT\r\n",
                "    CustomerId\r\n",
                "    , sum(Subtotal)\r\n",
                "from SalesOrders\r\n",
                "group by CustomerId\r\n",
                "order by CustomerId\r\n",
                "go\r\n",
                "\r\n",
                "SELECT\r\n",
                "    CustomerId\r\n",
                "    , OrderStatus\r\n",
                "    , sum(Subtotal)\r\n",
                "from SalesOrders\r\n",
                "group by CustomerId, OrderStatus\r\n",
                "order by CustomerId, OrderStatus\r\n",
                "go"
            ],
            "metadata": {
                "azdata_cell_guid": "d0341ed6-8edb-49b6-b5bf-b14ad0160879"
            },
            "outputs": [],
            "execution_count": null
        },
        {
            "cell_type": "markdown",
            "source": [
                "As we can see in results, SQL Server is very happy to use the columnstore index for aggregate queries now, and the performance is tens of times better than before when B-tree index was used. As a bonus, we can drop unused B-tree index. It will reduce waits when data is inserted or updated in base table."
            ],
            "metadata": {
                "azdata_cell_guid": "4aef40d2-1d15-4262-b9ab-a8985cd60f92"
            }
        },
        {
            "cell_type": "code",
            "source": [
                "use Demo\r\n",
                "go\r\n",
                "drop index ix_SalesOrders_CustomerId on SalesOrders\r\n",
                "go"
            ],
            "metadata": {
                "azdata_cell_guid": "f5226048-6506-43ce-b09a-b68e3b093be8"
            },
            "outputs": [],
            "execution_count": null
        },
        {
            "cell_type": "markdown",
            "source": [
                "## Clustered columnstore index\r\n",
                "Clustered columnstore index is the best for DWH purposes. Let's create a copy of SalesOrders table, then we'll observer the space occupied by the copy, and as last step we'll create clustered columnstore there."
            ],
            "metadata": {
                "azdata_cell_guid": "3c8b36f5-db8d-4fe1-a330-c129ce01deb2"
            }
        },
        {
            "cell_type": "code",
            "source": [
                "use Demo\r\n",
                "GO\r\n",
                "\r\n",
                "set STATISTICS time, io OFF\r\n",
                "set STATISTICS profile off\r\n",
                "\r\n",
                "drop table if exists SalesOrdersCopy\r\n",
                "select *\r\n",
                "into SalesOrdersCopy\r\n",
                "from SalesOrders\r\n",
                "go\r\n",
                "\r\n",
                "exec sp_spaceused 'SalesOrdersCopy'\r\n",
                "go"
            ],
            "metadata": {
                "azdata_cell_guid": "b5cf881b-9d9e-4bb6-80a7-48f08637addc"
            },
            "outputs": [],
            "execution_count": null
        },
        {
            "cell_type": "code",
            "source": [
                "use Demo\r\n",
                "go\r\n",
                "create clustered columnstore index ccs_SalesOrdersCopy on SalesOrdersCopy\r\n",
                "go\r\n",
                "exec sp_spaceused 'SalesOrdersCopy'\r\n",
                "go"
            ],
            "metadata": {
                "azdata_cell_guid": "4de6a556-2330-4804-a9d7-25053335c48f"
            },
            "outputs": [],
            "execution_count": null
        }
    ]
}