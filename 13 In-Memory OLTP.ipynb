{
    "metadata": {
        "kernelspec": {
            "name": "SQL",
            "display_name": "SQL",
            "language": "sql"
        },
        "language_info": {
            "name": "sql",
            "version": ""
        }
    },
    "nbformat_minor": 2,
    "nbformat": 4,
    "cells": [
        {
            "cell_type": "markdown",
            "source": [
                "# Working with In-Memory OLTP\r\n",
                "In this demo we'll do following steps\r\n",
                "1. Database configuration for In-Memory OLTP\r\n",
                "2. Table and indexes creation\r\n",
                "3. Creation of natively compiled stored procedure\r\n",
                "4. Performance test\r\n",
                "5. Memory consumption diagnostics\r\n",
                "\r\n",
                "## Database configuration for In-Memory OLTP\r\n",
                "Database which contains memory optimized tables needs to have memory optimized filegroup. The filegroup is used by SQL Server for memory dumps during checkpoint. It ensures full durability of memory optimized tables."
            ],
            "metadata": {
                "azdata_cell_guid": "8d94780a-8f66-47ae-bd42-b20969273688"
            }
        },
        {
            "cell_type": "code",
            "source": [
                "use master\r\n",
                "GO\r\n",
                "\r\n",
                "alter database Demo add filegroup INMEM contains memory_optimized_data\r\n",
                "go"
            ],
            "metadata": {
                "azdata_cell_guid": "9910837b-8cb1-4f97-bc1b-a32a4984f16b"
            },
            "outputs": [],
            "execution_count": null
        },
        {
            "cell_type": "code",
            "source": [
                "use master\r\n",
                "go\r\n",
                "\r\n",
                "alter database Demo add file\r\n",
                "(\r\n",
                "    name = 'InMemData'\r\n",
                "    , filename = 'F:\\InMemFs\\DemoInMem'\r\n",
                ") to filegroup INMEM\r\n",
                "go"
            ],
            "metadata": {
                "azdata_cell_guid": "cdb219c5-3ade-4224-b52e-98a134cbd752"
            },
            "outputs": [],
            "execution_count": null
        },
        {
            "cell_type": "markdown",
            "source": [
                "Now, the database is prepared for memory optimized workload.\r\n",
                "\r\n",
                "## Creating memory optimized table and indexes"
            ],
            "metadata": {
                "azdata_cell_guid": "94abfce0-1fa2-4739-ac74-8c70cb33a0f8"
            }
        },
        {
            "cell_type": "code",
            "source": [
                "use Demo\r\n",
                "go\r\n",
                "\r\n",
                "create table dbo.SensorData\r\n",
                "(\r\n",
                "    Id int not null identity \r\n",
                "        constraint pk_SensorData primary key nonclustered hash with (bucket_count = 2097152) -- hash index\r\n",
                "    , CurrentTime datetime2(7) not null constraint df_CurrentTime default (sysdatetime())\r\n",
                "    , TheValue dec(10, 3) not null constraint df_TheValue default (rand() * 1000)\r\n",
                "    , index ix_SensorData_TheValue (TheValue) -- range index\r\n",
                ")\r\n",
                "with\r\n",
                "(\r\n",
                "    memory_optimized = on       -- filegroup is not explicitly set\r\n",
                "    , durability = schema_and_data\r\n",
                ")\r\n",
                "go"
            ],
            "metadata": {
                "azdata_cell_guid": "9c0b9dab-233d-4f31-86a9-83334b771fc7"
            },
            "outputs": [],
            "execution_count": null
        },
        {
            "cell_type": "markdown",
            "source": [
                "## Natively compiled stored procedure"
            ],
            "metadata": {
                "azdata_cell_guid": "831fd356-6a1e-47b9-a154-3c5e31bc785c"
            }
        },
        {
            "cell_type": "code",
            "source": [
                "use Demo\r\n",
                "go\r\n",
                "\r\n",
                "create or alter proc dbo.procGenerateSensorData\r\n",
                "with NATIVE_COMPILATION, SCHEMABINDING, execute as caller\r\n",
                "AS\r\n",
                "begin atomic with (transaction isolation level = snapshot, language = 'english')\r\n",
                "    declare @i int = 1\r\n",
                "    while @i <= 1000000\r\n",
                "     BEGIN\r\n",
                "        insert dbo.SensorData default values\r\n",
                "        set @i+=1\r\n",
                "     end\r\n",
                "end\r\n",
                "go"
            ],
            "metadata": {
                "azdata_cell_guid": "139b2734-921e-4657-9b06-3a20eecc4f9e"
            },
            "outputs": [],
            "execution_count": null
        },
        {
            "cell_type": "code",
            "source": [
                "use Demo\r\n",
                "GO\r\n",
                "\r\n",
                "set statistics io, time ON\r\n",
                "exec dbo.procGenerateSensorData\r\n",
                "set statistics io, time OFF\r\n",
                "go"
            ],
            "metadata": {
                "azdata_cell_guid": "2ceb16c2-fd25-4684-9f7c-628d154eac98"
            },
            "outputs": [],
            "execution_count": null
        },
        {
            "cell_type": "markdown",
            "source": [
                "## Memory consumption by memory optimized objects"
            ],
            "metadata": {
                "azdata_cell_guid": "621ecb46-fcfe-4b4d-b3d0-86ef3e95ed2b"
            }
        },
        {
            "cell_type": "code",
            "source": [
                "use Demo\r\n",
                "GO\r\n",
                "select count(*) from dbo.SensorData\r\n",
                "\r\n",
                "select\r\n",
                "    memory_consumer_desc\r\n",
                "    , allocated_bytes / 1024./1024. as allocated_mb\r\n",
                "    , used_bytes / 1024. / 1024. as used_mb\r\n",
                "from sys.dm_db_xtp_memory_consumers where object_id = OBJECT_ID('dbo.SensorData')\r\n",
                "go"
            ],
            "metadata": {
                "azdata_cell_guid": "09fef13c-5e33-4897-993a-6071021a1b83"
            },
            "outputs": [],
            "execution_count": null
        }
    ]
}