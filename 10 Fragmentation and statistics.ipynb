{
    "metadata": {
        "kernelspec": {
            "name": "SQL",
            "display_name": "SQL",
            "language": "sql"
        },
        "language_info": {
            "name": "sql",
            "version": ""
        }
    },
    "nbformat_minor": 2,
    "nbformat": 4,
    "cells": [
        {
            "cell_type": "markdown",
            "source": [
                "# Handling index fragmentation and statistics\n",
                "\n",
                "In this recipe we will see how to receive an information about fragmentation and statistics. Then we'll use the knowledge to create automated reindexing script.\n",
                "\n",
                "First of all, we need to prepare some data."
            ],
            "metadata": {
                "azdata_cell_guid": "64fbeab5-b93c-4204-8298-f8aee15caa34"
            }
        },
        {
            "cell_type": "code",
            "source": [
                "use Demo\r\n",
                "go\r\n",
                "\r\n",
                "drop table if exists Fragmented\r\n",
                "create table Fragmented\r\n",
                "(\r\n",
                "PrimaryKey uniqueidentifier not null primary key default(newid())\r\n",
                ", SomeValue nvarchar(200) not null default(replicate('a', rand() * 100))\r\n",
                ")\r\n",
                "go\r\n",
                "\r\n",
                "set nocount ON\r\n",
                "insert Fragmented default VALUES\r\n",
                "go 10000"
            ],
            "metadata": {
                "azdata_cell_guid": "79d4d08c-7daa-4b67-aecb-b94d5585ee45"
            },
            "outputs": [],
            "execution_count": null
        },
        {
            "cell_type": "markdown",
            "source": [
                "## Index fragmentation DMO\n",
                "Information about freagmentation can be received using DMO **sys.dm\\_db\\_index\\_physical\\_stats**. How to query this function is seen on following statement.\n",
                "\n",
                "Interesting columns are:\n",
                "\n",
                "- object\\_id\n",
                "- index\\_id\n",
                "    - 0... heap\n",
                "    - 1... clustered index\n",
                "    - greater than 1... nonclustered index\n",
                "- alloc\\_unit\\_type\\_desc\n",
                "    - in-row data is usually interesting\n",
                "- avg\\_fragmentation\\_in\\_percent\n",
                "    - this is the column compared to percent of fragmentation less than 5, between 5 and 30, and greater than 30\n",
                "- page\\_count\n",
                "    - very small tables or indexes (like with less than 500 pages) have confusing avg\\_fragmentation\\_in\\_percent, we do not care about them"
            ],
            "metadata": {
                "azdata_cell_guid": "a2fe52da-4bf8-4481-8ea0-1b07f3c9ef78"
            }
        },
        {
            "cell_type": "code",
            "source": [
                "use Demo\r\n",
                "go\r\n",
                "\r\n",
                "select * from sys.dm_db_index_physical_stats(db_id(), null, null, null, null)\r\n",
                "go"
            ],
            "metadata": {
                "azdata_cell_guid": "7353fe1c-155d-4e4d-a1b5-c40014db37c5",
                "tags": []
            },
            "outputs": [],
            "execution_count": null
        },
        {
            "cell_type": "markdown",
            "source": [
                "The result of preceding query is not readable easily, let's enhance it as follows:"
            ],
            "metadata": {
                "azdata_cell_guid": "adac71d3-3a98-4410-86a5-ebfd54c967f6"
            }
        },
        {
            "cell_type": "code",
            "source": [
                "use Demo\r\n",
                "go\r\n",
                "\r\n",
                "select\r\n",
                "\tCONCAT(OBJECT_SCHEMA_NAME(stat.object_id), '.',  OBJECT_NAME(stat.object_id)) as full_table_name\r\n",
                "\t, i.name as index_name\r\n",
                "\t, stat.avg_fragmentation_in_percent\r\n",
                "\t, stat.page_count\r\n",
                "from sys.dm_db_index_physical_stats(db_id(), null, null, null, null) as stat\r\n",
                "\tjoin sys.indexes as i on i.index_id = stat.index_id and i.object_id = stat.object_id\r\n",
                "where stat.avg_fragmentation_in_percent >= 20 \r\n",
                "\tand stat.page_count >= 100\r\n",
                "\tand stat.alloc_unit_type_desc = 'IN_ROW_DATA'"
            ],
            "metadata": {
                "azdata_cell_guid": "f7fd3160-a647-4681-ac7c-41e4e7e45480"
            },
            "outputs": [],
            "execution_count": null
        },
        {
            "cell_type": "markdown",
            "source": [
                "Now, when we know how objects are fragmented, we can write a loop building up a SQL statements for defragmentation\n",
                "\n",
                "## Automated defragmentation\n",
                "\n",
                "Following script looks weird, but it is not. The _SELECT_ statement for cursor looks for all fragmented objects. The most important part is inside the cursor loop:\n",
                "\n",
                "1. What is the index\\_id? If it equals to 0, the table is HEAP, so only *ALTER TABLE ... REBUILD* is possible statement\n",
                "2. If the index\\_id does not equal to 0, it's index and we need to decide if the index is fragmented more than 30 percent \n",
                "    1. If it is not, *REORGANIZE* option for *ALTER INDEX* is good enough \n",
                "    2. If it is, we should use *REBUILD* option\n",
                "3. When REORGANIZE is decided, *UPDATE STATISTICS* should be added to the index maintenance"
            ],
            "metadata": {
                "azdata_cell_guid": "9affeabb-63c9-4e6c-862b-c48cd2bc2d09"
            }
        },
        {
            "cell_type": "code",
            "source": [
                "use Demo\r\n",
                "go\r\n",
                "/*pars*/\r\n",
                "declare @page_count int = 100\r\n",
                "\t, @less_frag int = 10\r\n",
                "\t, @hours_from_bginning int = 1\r\n",
                "\r\n",
                "/*vars*/\r\n",
                "declare @startTme datetime2 = sysdatetime()\r\n",
                "\t, @index_id int\r\n",
                "\t, @object_name nvarchar(200)\r\n",
                "\t, @index_name nvarchar(200)\r\n",
                "\t, @current_frag dec(5, 2)\r\n",
                "\t, @sql nvarchar(600)\r\n",
                "declare crs cursor\r\n",
                "for\r\n",
                "select\r\n",
                "\tstat.index_id\r\n",
                "\t, CONCAT(OBJECT_SCHEMA_NAME(stat.object_id), '.',  OBJECT_NAME(stat.object_id)) as full_table_name\r\n",
                "\t, i.name as index_name\r\n",
                "\t, stat.avg_fragmentation_in_percent\r\n",
                "from sys.dm_db_index_physical_stats(db_id(), null, null, null, null) as stat\r\n",
                "\tjoin sys.indexes as i on i.index_id = stat.index_id and i.object_id = stat.object_id\r\n",
                "where stat.avg_fragmentation_in_percent >= @less_frag\r\n",
                "\tand stat.page_count >= @page_count\r\n",
                "\tand stat.alloc_unit_type_desc = 'IN_ROW_DATA'\r\n",
                "\r\n",
                "open crs\r\n",
                "fetch crs into @index_id, @object_name, @index_name, @current_frag\r\n",
                "while @@FETCH_STATUS = 0 and SYSDATETIME() < dateadd(hh, @hours_from_bginning, @startTme)\r\n",
                " begin\r\n",
                "\tif @index_id = 0 -- heap\r\n",
                "\t\tset @sql = CONCAT('ALTER TABLE ', @object_name, ' REBUILD')\r\n",
                "\telse\r\n",
                "\t begin\r\n",
                "\t\tset @sql = CONCAT('ALTER INDEX ', @index_name, ' ON ', @object_name, IIF(@current_frag < 30, ' REORGANIZE', ' REBUILD'))\r\n",
                "\t\tif @current_frag < 30\r\n",
                "\t\t\tset @sql += ' UPDATE STATISTICS ' + @object_name\r\n",
                "\t end\r\n",
                "\tprint @sql\r\n",
                "    -- exec(@sql)\r\n",
                "\tfetch crs into @index_id, @object_name, @index_name, @current_frag\r\n",
                " end\r\n",
                "close crs\r\n",
                "deallocate crs"
            ],
            "metadata": {
                "azdata_cell_guid": "77f331d2-3463-4c26-bb1e-d7f66d6ec723"
            },
            "outputs": [],
            "execution_count": null
        },
        {
            "cell_type": "markdown",
            "source": [
                "When preceding script is completed, let's take a look at the fragmentation now."
            ],
            "metadata": {
                "azdata_cell_guid": "28baf390-50d6-4ded-b5e7-1f90d4e81550"
            }
        },
        {
            "cell_type": "code",
            "source": [
                "use Demo\r\n",
                "go\r\n",
                "\r\n",
                "select\r\n",
                "\tCONCAT(OBJECT_SCHEMA_NAME(stat.object_id), '.',  OBJECT_NAME(stat.object_id)) as full_table_name\r\n",
                "\t, i.name as index_name\r\n",
                "\t, stat.avg_fragmentation_in_percent\r\n",
                "\t, stat.page_count\r\n",
                "from sys.dm_db_index_physical_stats(db_id(), null, null, null, null) as stat\r\n",
                "\tjoin sys.indexes as i on i.index_id = stat.index_id and i.object_id = stat.object_id\r\n",
                "where stat.avg_fragmentation_in_percent >= 20 \r\n",
                "\tand stat.page_count >= 100\r\n",
                "\tand stat.alloc_unit_type_desc = 'IN_ROW_DATA'"
            ],
            "metadata": {
                "azdata_cell_guid": "06229713-8b5d-448d-b4d4-5626d8881c9b"
            },
            "outputs": [],
            "execution_count": null
        },
        {
            "cell_type": "markdown",
            "source": [
                "## Conclusion\r\n",
                "This recipe didn't show breaking magic, as an alternative Ola Hallengren's script is frequently used. This recipe showed more diagnostics and possible way of defragmentation."
            ],
            "metadata": {
                "azdata_cell_guid": "40971307-9bad-4329-bf79-fa1e617bac72"
            }
        }
    ]
}