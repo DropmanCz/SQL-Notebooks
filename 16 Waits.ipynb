{
    "metadata": {
        "kernelspec": {
            "name": "SQL",
            "display_name": "SQL",
            "language": "sql"
        },
        "language_info": {
            "name": "sql",
            "version": ""
        }
    },
    "nbformat_minor": 2,
    "nbformat": 4,
    "cells": [
        {
            "cell_type": "markdown",
            "source": [
                "# Wait diagnostics\n",
                "\n",
                "This recipe shows how to recive an information about all waits of SQL Server, then one transaction will be created and waits will be explored.\n",
                "\n",
                "## Wait statistics\n",
                "\n",
                "Following query shows how to observe waits since last restart of SQL Server. We'll never know what statement caused waits, but we can estimate if certain wait is an issue or not. Don't be confised by so many wait types, stay concentrated to waits related to common SQL Server workload."
            ],
            "metadata": {
                "azdata_cell_guid": "0020df9c-db3f-4e2c-87da-44157e86b91e"
            }
        },
        {
            "cell_type": "code",
            "source": [
                "select * \r\n",
                "    , wait_time_ms * 1. / waiting_tasks_count as avg_wait_time_ms\r\n",
                "from sys.dm_os_wait_stats\r\n",
                "where waiting_tasks_count > 0\r\n",
                "order by avg_wait_time_ms desc"
            ],
            "metadata": {
                "azdata_cell_guid": "101adb6f-6e7b-4de9-8349-577dff0f14c3"
            },
            "outputs": [],
            "execution_count": null
        },
        {
            "cell_type": "markdown",
            "source": [
                "## Blocks\n",
                "\n",
                "We will create two transactions, one will block the other. We need to execute following statements in SSMS:\n",
                "\n",
                "Transaction A: USE Demo go BEGIN TRAN SELECT count(\\*) FROM SalesOrders (tablockx)\n",
                "\n",
                "Transaction B: USE Demo go BEGIN TRAN SELECT count(\\*) FROM SalesOrders (tablockx)"
            ],
            "metadata": {
                "azdata_cell_guid": "b4f6bbe1-93db-4d2a-addd-dc17674e68ae"
            }
        },
        {
            "cell_type": "code",
            "source": [
                "select * from sys.dm_tran_locks where request_session_id in (71, 72)    -- replace the numbers with actual ones from SSMS"
            ],
            "metadata": {
                "azdata_cell_guid": "55256438-8327-4006-9307-42691ca581ea"
            },
            "outputs": [],
            "execution_count": null
        },
        {
            "cell_type": "markdown",
            "source": [
                "Previous statement shows locks, both wanted and aquired. Following statement shows waiting session and also what the session sent to SQL Server."
            ],
            "metadata": {
                "azdata_cell_guid": "8e1b3f15-4473-430e-8fc3-391cd39cfcdf"
            }
        },
        {
            "cell_type": "code",
            "source": [
                "select * \r\n",
                "    , s.text\r\n",
                "from sys.dm_os_waiting_tasks as t\r\n",
                "    join sys.dm_exec_requests as r on t.session_id = r.session_id\r\n",
                "    cross apply sys.dm_exec_sql_text(r.sql_handle) as s\r\n",
                "where t.session_id = 72 -- replace the number of session with actually waiting session"
            ],
            "metadata": {
                "azdata_cell_guid": "0b20493b-59a8-4529-b619-67e389957b8c"
            },
            "outputs": [],
            "execution_count": null
        },
        {
            "cell_type": "markdown",
            "source": [
                "Let's kill both sessions now. Then we can take a look to the wait\\_stats again"
            ],
            "metadata": {
                "azdata_cell_guid": "ef0a5ec4-964e-4734-a1f5-cad4c9b58fdf"
            }
        },
        {
            "cell_type": "code",
            "source": [
                "kill 71\r\n",
                "kill 72\r\n",
                "GO\r\n",
                "\r\n",
                "select * \r\n",
                "    , wait_time_ms * 1. / waiting_tasks_count as avg_wait_time_ms\r\n",
                "from sys.dm_os_wait_stats\r\n",
                "where waiting_tasks_count > 0\r\n",
                "order by avg_wait_time_ms desc\r\n",
                ""
            ],
            "metadata": {
                "azdata_cell_guid": "ac622070-1817-4933-ab29-af5d6b777fd6"
            },
            "outputs": [],
            "execution_count": null
        }
    ]
}