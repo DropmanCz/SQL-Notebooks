{
    "metadata": {
        "kernelspec": {
            "name": "SQL",
            "display_name": "SQL",
            "language": "sql"
        },
        "language_info": {
            "name": "sql",
            "version": ""
        }
    },
    "nbformat_minor": 2,
    "nbformat": 4,
    "cells": [
        {
            "cell_type": "markdown",
            "source": [
                "# Secured development\n",
                "\n",
                "This demo shows:\n",
                "\n",
                "- how to create a schema\n",
                "- how to assing permissions to the schema\n",
                "- how to work with ownership of schemas and objects\n",
                "\n",
                "## How to create a schema and couple of objects to it\n",
                "Let's recall that we have user *David* who will be a regular user. We will create second user with greater permissions as a develper of the database. Then we will observe how both users behave.\n",
                "\n",
                "### Prep steps\n",
                "Let's create second user called *Dev* now."
            ],
            "metadata": {
                "azdata_cell_guid": "93df27a5-6106-4907-a4fa-10976e946c78"
            }
        },
        {
            "cell_type": "code",
            "source": [
                "use Demo\r\n",
                "go\r\n",
                "\r\n",
                "if exists(select * from sys.server_principals where name = 'Dev')\r\n",
                "    drop login Dev\r\n",
                "go\r\n",
                "\r\n",
                "create login Dev with password = 'Pa$$w0rd', check_policy = off\r\n",
                "go\r\n",
                "\r\n",
                "create user Dev for login Dev\r\n",
                "go\r\n",
                "\r\n",
                "alter role db_owner add member Dev\r\n",
                "go"
            ],
            "metadata": {
                "azdata_cell_guid": "81cce14f-34f4-4ed8-bdf8-4c2748aa6275"
            },
            "outputs": [],
            "execution_count": null
        },
        {
            "cell_type": "markdown",
            "source": [
                "### Let's create some schemas with different owners\r\n",
                "- first statement shows recommended way of schema creation\r\n",
                "- second schema show unreliable schema creation"
            ],
            "metadata": {
                "azdata_cell_guid": "beecbeff-ace8-48bf-921b-0ff9f96471df"
            }
        },
        {
            "cell_type": "code",
            "source": [
                "use Demo\r\n",
                "GO\r\n",
                "\r\n",
                "execute as user = 'Dev'\r\n",
                "go\r\n",
                "create schema Sales authorization dbo\r\n",
                "go\r\n",
                "create schema Prod\r\n",
                "go\r\n",
                "revert\r\n",
                "go\r\n",
                "\r\n",
                "select \r\n",
                "    s.name as schema_name\r\n",
                "    , d.name as owner_name\r\n",
                "from sys.schemas as s \r\n",
                "    join sys.database_principals as d on s.principal_id = d.principal_id \r\n",
                "where s.name in ('dbo', 'Sales', 'Prod')"
            ],
            "metadata": {
                "azdata_cell_guid": "fdf9eada-9188-4e5a-a55d-94234b73e7ec"
            },
            "outputs": [
                {
                    "output_type": "display_data",
                    "data": {
                        "text/html": "Commands completed successfully."
                    },
                    "metadata": {}
                },
                {
                    "output_type": "display_data",
                    "data": {
                        "text/html": "Commands completed successfully."
                    },
                    "metadata": {}
                },
                {
                    "output_type": "error",
                    "evalue": "Msg 2714, Level 16, State 6, Line 6\r\nThere is already an object named 'Sales' in the database.",
                    "ename": "",
                    "traceback": []
                },
                {
                    "output_type": "error",
                    "evalue": "Msg 2759, Level 16, State 0, Line 6\r\nCREATE SCHEMA failed due to previous errors.",
                    "ename": "",
                    "traceback": []
                },
                {
                    "output_type": "error",
                    "evalue": "Msg 2714, Level 16, State 6, Line 8\r\nThere is already an object named 'Prod' in the database.",
                    "ename": "",
                    "traceback": []
                },
                {
                    "output_type": "error",
                    "evalue": "Msg 2759, Level 16, State 0, Line 8\r\nCREATE SCHEMA failed due to previous errors.",
                    "ename": "",
                    "traceback": []
                },
                {
                    "output_type": "display_data",
                    "data": {
                        "text/html": "Commands completed successfully."
                    },
                    "metadata": {}
                },
                {
                    "output_type": "display_data",
                    "data": {
                        "text/html": "(3 rows affected)"
                    },
                    "metadata": {}
                },
                {
                    "output_type": "display_data",
                    "data": {
                        "text/html": "Total execution time: 00:00:00.149"
                    },
                    "metadata": {}
                },
                {
                    "output_type": "execute_result",
                    "metadata": {},
                    "execution_count": 10,
                    "data": {
                        "application/vnd.dataresource+json": {
                            "schema": {
                                "fields": [
                                    {
                                        "name": "schema_name"
                                    },
                                    {
                                        "name": "owner_name"
                                    }
                                ]
                            },
                            "data": [
                                {
                                    "0": "dbo",
                                    "1": "dbo"
                                },
                                {
                                    "0": "Prod",
                                    "1": "Dev"
                                },
                                {
                                    "0": "Sales",
                                    "1": "dbo"
                                }
                            ]
                        },
                        "text/html": [
                            "<table>",
                            "<tr><th>schema_name</th><th>owner_name</th></tr>",
                            "<tr><td>dbo</td><td>dbo</td></tr>",
                            "<tr><td>Prod</td><td>Dev</td></tr>",
                            "<tr><td>Sales</td><td>dbo</td></tr>",
                            "</table>"
                        ]
                    }
                }
            ],
            "execution_count": 10
        },
        {
            "cell_type": "markdown",
            "source": [
                "As we can see in previous result, the owner of the schema could be:\r\n",
                "- dbo: when explicitly writen (*AUTHORIZATION* keyword) or when a member of **sysadmin** server role creates the schema\r\n",
                "- creator: when the developer who created the schema is not a member of **sysadmin** role. It leads to a broken ownership chains\r\n",
                "\r\n",
                "Let's create a couple of tables to both schemas. Then we'll assing some permissions to *David*.\r\n",
                "\r\n",
                "### Creating objects, assigning permissions and observing the behavior"
            ],
            "metadata": {
                "azdata_cell_guid": "b6aa3c11-57a6-46fb-a454-046dc532b7c7"
            }
        },
        {
            "cell_type": "code",
            "source": [
                "use Demo\r\n",
                "go\r\n",
                "\r\n",
                "drop table if exists Sales.SalesCases\r\n",
                "create table Sales.SalesCases\r\n",
                "(\r\n",
                "    Id int not null identity primary KEY\r\n",
                "    , SomeValue int null    \r\n",
                ")\r\n",
                "GO\r\n",
                "\r\n",
                "drop table if exists Prod.Product\r\n",
                "create table Prod.Product\r\n",
                "(\r\n",
                "    Id int not null identity primary KEY\r\n",
                "    , SomeValue int null    \r\n",
                ")\r\n",
                "GO\r\n",
                ""
            ],
            "metadata": {
                "azdata_cell_guid": "cecde238-2562-44af-bc8e-e874cdada2d3"
            },
            "outputs": [],
            "execution_count": null
        },
        {
            "cell_type": "markdown",
            "source": [
                "Now we'll assign permissions to allow David to use just objects in Sales schema. Immediately after it, David will execute two select statements."
            ],
            "metadata": {
                "azdata_cell_guid": "0d3cca5e-985d-4bc2-9721-f751cf205efb"
            }
        },
        {
            "cell_type": "code",
            "source": [
                "grant select on schema::Sales to David\r\n",
                "go\r\n",
                "\r\n",
                "execute as user = 'David'\r\n",
                "    select * from Sales.SalesCases\r\n",
                "    select * from Prod.Product\r\n",
                "revert"
            ],
            "metadata": {
                "azdata_cell_guid": "2805690a-6520-463f-8493-1da2ba17fbd3"
            },
            "outputs": [
                {
                    "output_type": "display_data",
                    "data": {
                        "text/html": "Commands completed successfully."
                    },
                    "metadata": {}
                },
                {
                    "output_type": "display_data",
                    "data": {
                        "text/html": "(0 rows affected)"
                    },
                    "metadata": {}
                },
                {
                    "output_type": "display_data",
                    "data": {
                        "text/html": "Total execution time: 00:00:00.053"
                    },
                    "metadata": {}
                },
                {
                    "output_type": "execute_result",
                    "metadata": {},
                    "execution_count": 9,
                    "data": {
                        "application/vnd.dataresource+json": {
                            "schema": {
                                "fields": [
                                    {
                                        "name": "Id"
                                    },
                                    {
                                        "name": "SomeValue"
                                    }
                                ]
                            },
                            "data": []
                        },
                        "text/html": [
                            "<table>",
                            "<tr><th>Id</th><th>SomeValue</th></tr>",
                            "</table>"
                        ]
                    }
                },
                {
                    "output_type": "error",
                    "evalue": "Msg 229, Level 14, State 5, Line 6\r\nThe SELECT permission was denied on the object 'Product', database 'Demo', schema 'Prod'.",
                    "ename": "",
                    "traceback": []
                }
            ],
            "execution_count": 9
        },
        {
            "cell_type": "markdown",
            "source": [
                "As we can see, our user will retrieve an error when he tries to access data in different schema.\n",
                "\n",
                "## Ownership chains\n",
                "Now we'll create a view to the schema Sales owned by DBO. The view will union data from tables placed to two schemas. Then we will try to select data from teh view as David."
            ],
            "metadata": {
                "azdata_cell_guid": "67805c85-c9e5-4d5b-abac-6f6b62d23327"
            }
        },
        {
            "cell_type": "code",
            "source": [
                "use Demo\r\n",
                "GO\r\n",
                "\r\n",
                "create or alter view Sales.viAllData\r\n",
                "as\r\n",
                "select Id, SomeValue from Sales.SalesCases\r\n",
                "union all\r\n",
                "select Id, SomeValue from Prod.Product\r\n",
                "GO\r\n",
                "\r\n",
                "execute as user = 'David'\r\n",
                "select * from Sales.viAllData\r\n",
                "revert"
            ],
            "metadata": {
                "azdata_cell_guid": "5b581e8a-0c03-4fdd-b3ea-7c3bd0b779ce"
            },
            "outputs": [
                {
                    "output_type": "display_data",
                    "data": {
                        "text/html": "Commands completed successfully."
                    },
                    "metadata": {}
                },
                {
                    "output_type": "display_data",
                    "data": {
                        "text/html": "Commands completed successfully."
                    },
                    "metadata": {}
                },
                {
                    "output_type": "error",
                    "evalue": "Msg 229, Level 14, State 5, Line 12\r\nThe SELECT permission was denied on the object 'Product', database 'Demo', schema 'Prod'.",
                    "ename": "",
                    "traceback": []
                },
                {
                    "output_type": "display_data",
                    "data": {
                        "text/html": "Total execution time: 00:00:00.080"
                    },
                    "metadata": {}
                }
            ],
            "execution_count": 12
        },
        {
            "cell_type": "markdown",
            "source": [
                "Preceding select in David's context failed with an error. Read the error message carefully - it does not decline the access to whole view, but to the Product table located in Prod schema! It's not because David does not have permissions to read data from Prod schema. It's because the schema and objects in it have different owner! This what **broken ownership chains** means. Let's correct it.\r\n",
                "\r\n",
                "### How to correct the ownership of schemas and objects\r\n",
                "The correction of broken ownership is two-steps action.\r\n",
                "1. We need to correct the ownership of objects\r\n",
                "2. We need to correct the ownership of the schema itself\r\n",
                "\r\n",
                "Following script does it:"
            ],
            "metadata": {
                "azdata_cell_guid": "b8736e14-5c7a-4ede-ba81-9302cdd63f7d"
            }
        },
        {
            "cell_type": "code",
            "source": [
                "use Demo\r\n",
                "GO\r\n",
                "declare @schema nvarchar(30) = 'Prod'\t-- parameter, schema for which the change has to be done\r\n",
                "\t, @objName nvarchar(100)\r\n",
                "\t, @sql nvarchar(1000) = 'ALTER AUTHORIZATION ON OBJECT::%s TO dbo'\r\n",
                "\t, @sqlinst nvarchar(1000)\r\n",
                "declare crs cursor\r\n",
                "for\r\n",
                "select @schema + '.' + object_name(object_id) \r\n",
                "from sys.objects\r\n",
                "where schema_id = SCHEMA_id(@schema)\r\n",
                "\tand type in ('FN', 'IF', 'U', 'V', 'P')\r\n",
                "\r\n",
                "open crs\r\n",
                "fetch crs into @objName\r\n",
                "while @@FETCH_STATUS = 0\r\n",
                " begin\r\n",
                "\tset @sqlinst = replace(@sql, '%s', @objName)\r\n",
                "\t-- print(@sqlinst)\r\n",
                "\texec(@sqlinst)\r\n",
                "\tfetch crs into @objName\r\n",
                " end\r\n",
                "close crs\r\n",
                "deallocate crs\r\n",
                "\r\n",
                "set @sqlinst = replace(@sql, 'OBJECT::%s', 'SCHEMA::' + @schema)\r\n",
                "exec(@sqlinst)\r\n",
                "-- print(@sqlinst)"
            ],
            "metadata": {
                "azdata_cell_guid": "a0260a87-4081-4e40-a41c-f11000684030"
            },
            "outputs": [],
            "execution_count": null
        },
        {
            "cell_type": "markdown",
            "source": [
                "Let's test how David's work is changed:"
            ],
            "metadata": {
                "azdata_cell_guid": "36bbba68-eac5-416d-a8da-0644fccc0644"
            }
        },
        {
            "cell_type": "code",
            "source": [
                "use Demo\r\n",
                "GO\r\n",
                "execute as user = 'David'\r\n",
                "select * from Sales.viAllData\r\n",
                "revert"
            ],
            "metadata": {
                "azdata_cell_guid": "744635fd-baf5-498d-8348-b55f38022706"
            },
            "outputs": [
                {
                    "output_type": "display_data",
                    "data": {
                        "text/html": "Commands completed successfully."
                    },
                    "metadata": {}
                },
                {
                    "output_type": "display_data",
                    "data": {
                        "text/html": "(0 rows affected)"
                    },
                    "metadata": {}
                },
                {
                    "output_type": "display_data",
                    "data": {
                        "text/html": "Total execution time: 00:00:00.050"
                    },
                    "metadata": {}
                },
                {
                    "output_type": "execute_result",
                    "metadata": {},
                    "execution_count": 14,
                    "data": {
                        "application/vnd.dataresource+json": {
                            "schema": {
                                "fields": [
                                    {
                                        "name": "Id"
                                    },
                                    {
                                        "name": "SomeValue"
                                    }
                                ]
                            },
                            "data": []
                        },
                        "text/html": [
                            "<table>",
                            "<tr><th>Id</th><th>SomeValue</th></tr>",
                            "</table>"
                        ]
                    }
                }
            ],
            "execution_count": 14
        }
    ]
}