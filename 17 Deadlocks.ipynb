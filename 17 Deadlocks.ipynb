{
    "metadata": {
        "kernelspec": {
            "name": "SQL",
            "display_name": "SQL",
            "language": "sql"
        },
        "language_info": {
            "name": "sql",
            "version": ""
        }
    },
    "nbformat_minor": 2,
    "nbformat": 4,
    "cells": [
        {
            "cell_type": "markdown",
            "source": [
                "# Deadlock\n",
                "\n",
                "In this demo we will work with two transactions.\n",
                "\n",
                "1. We'll prepare Performance monitor for the deadlock monitoring (SQL Server:Locks - Number of Deadlocks/sec)\n",
                "2. We'll execute two transactions\n",
                "3. We'll show how to catch and handle the deadlock victim error\n",
                "\n",
                "## Transactions in conflict\n",
                "Following code looks twice the same, but it's not. Note, that the order of objects in switched.\n",
                "\n",
                "Let's copy transactions to SSMS and let's execute it \"slowly\"."
            ],
            "metadata": {
                "azdata_cell_guid": "fd1e3b6d-82b7-4c0b-81f7-a9477e5170f4"
            }
        },
        {
            "cell_type": "code",
            "source": [
                "-- following code must be divided between two SSMS query windows\r\n",
                "\r\n",
                "-- first transaction\r\n",
                "use Demo\r\n",
                "go\r\n",
                "\r\n",
                "begin tran\r\n",
                "update dbo.SalesOrders set Subtotal = 1000 where id between 300000 and 310000\r\n",
                "update dbo.SalesOrdersCopy set Subtotal = 1000 where id between 300000 and 310000\r\n",
                "\r\n",
                "rollback\r\n",
                "\r\n",
                "-- second transaction\r\n",
                "use Demo\r\n",
                "go\r\n",
                "\r\n",
                "begin tran\r\n",
                "update dbo.SalesOrdersCopy set Subtotal = 1000 where id between 300000 and 310000\r\n",
                "update dbo.SalesOrders set Subtotal = 1000 where id between 300000 and 310000\r\n",
                "\r\n",
                "rollback"
            ],
            "metadata": {
                "azdata_cell_guid": "3ad62c9b-32c0-425e-8352-bf0fca8aea58"
            },
            "outputs": [],
            "execution_count": null
        },
        {
            "cell_type": "markdown",
            "source": [
                "## Handling the error number 1205"
            ],
            "metadata": {
                "azdata_cell_guid": "33da2ff0-685c-476c-8289-d5e9f97315f3"
            }
        },
        {
            "cell_type": "code",
            "source": [
                "use Demo\r\n",
                "go\r\n",
                "\r\n",
                "declare @attemptNo int = 3\r\n",
                "\r\n",
                "while @attemptNo > 0\r\n",
                " begin\r\n",
                "\tbegin try\r\n",
                "\t\tbegin tran\r\n",
                "\t\tupdate dbo.SalesOrdersCopy set Subtotal = 1000 where id between 300000 and 310000\r\n",
                "\t\tupdate dbo.SalesOrders set Subtotal = 1000 where id between 300000 and 310000\r\n",
                "\t\tcommit\r\n",
                "\tend try\r\n",
                "\tbegin catch\r\n",
                "\t\tif ERROR_NUMBER() = 1205\r\n",
                "\t\t begin\r\n",
                "\t\t\tset @attemptNo -= 1\r\n",
                "\t\t end\r\n",
                "\t\telse\r\n",
                "\t\t begin\r\n",
                "\t\t\tset @attemptNo = 0\r\n",
                "\t\t\tif @@TRANCOUNT > 0\r\n",
                "\t\t\t\trollback;\r\n",
                "\t\t\tthrow;\r\n",
                "\t\t end\r\n",
                "\tend catch\r\n",
                " end"
            ],
            "metadata": {
                "azdata_cell_guid": "b51392a7-7ea9-43a8-b637-389951f7e7aa"
            },
            "outputs": [],
            "execution_count": null
        }
    ]
}